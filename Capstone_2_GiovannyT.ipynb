{
 "cells": [
  {
   "cell_type": "markdown",
   "id": "3f13f40f",
   "metadata": {},
   "source": [
    "# ''Supermarket Customers Analysis''"
   ]
  },
  {
   "cell_type": "markdown",
   "id": "455641ef",
   "metadata": {},
   "source": [
    "# Latar Belakang dan Masalah\n",
    "\n",
    "## Latar Belakang:\n",
    "Perusahaan XYZ, yang bergerak di sektor ritel atau supermarket, dihadapkan pada tuntutan untuk memahami lebih dalam perilaku dan preferensi pelanggan. Dalam rangka meningkatkan strategi pemasaran, manajemen perusahaan perlu menggali wawasan dari data pelanggan yang dimilikinya. Data tersebut mencakup informasi demografis pelanggan, detail pembelian produk, respons terhadap kampanye pemasaran, dan keluhan pelanggan.\n",
    "\n",
    "Dalam dunia ritel yang kompetitif, pemahaman mendalam terhadap pelanggan merupakan kunci untuk memberikan layanan yang lebih baik, meningkatkan penjualan, dan merumuskan strategi pemasaran yang lebih efektif. Dengan menganalisis data yang telah dikumpulkan, perusahaan dapat mengidentifikasi pola-pola tertentu, memahami kebutuhan pelanggan, dan mengambil langkah-langkah yang lebih tepat guna."
   ]
  },
  {
   "cell_type": "markdown",
   "id": "218c2ff7",
   "metadata": {},
   "source": [
    "## Rumusan Masalah:\n",
    "Beberapa pertanyaan mendasar yang akan coba dipecahkan dalam project ini antara lain:\n",
    "1. Bagaimana segmentasi pelanggan?\n",
    "2. Bagaimana performa penjualan?\n",
    "3. Bagaimana efektifitas campaign?\n",
    "4. Bagaimana efektifitas website?\n",
    "5. Bagaimana dengan komplain pelanggan?\n",
    "\n",
    "Dengan merumuskan pertanyaan-pertanyaan ini, analisis data dapat memberikan pandangan yang holistik dan rekomendasi yang bermanfaat bagi perusahaan untuk meningkatkan layanan, merancang strategi pemasaran yang lebih efektif, dan menjaga kepuasan pelanggan."
   ]
  },
  {
   "cell_type": "markdown",
   "id": "3275b94c",
   "metadata": {},
   "source": [
    "# Data Cleaning and Understanding "
   ]
  },
  {
   "cell_type": "markdown",
   "id": "e10e6b5d",
   "metadata": {},
   "source": [
    "## Import & Understanding Data"
   ]
  },
  {
   "cell_type": "code",
   "execution_count": 1,
   "id": "e0fba403",
   "metadata": {},
   "outputs": [],
   "source": [
    "#Import Library\n",
    "import pandas as pd\n",
    "import numpy as np\n",
    "import matplotlib.pyplot as plt\n",
    "import math\n",
    "import seaborn as sns\n",
    "\n",
    "#Reading datasets\n",
    "df = pd.read_csv('C:/Users/giova/Documents/purwadhika/Supermarket Customers.csv', sep='\\t')"
   ]
  },
  {
   "cell_type": "code",
   "execution_count": 2,
   "id": "7b1dfc04",
   "metadata": {},
   "outputs": [
    {
     "data": {
      "text/html": [
       "<div>\n",
       "<style scoped>\n",
       "    .dataframe tbody tr th:only-of-type {\n",
       "        vertical-align: middle;\n",
       "    }\n",
       "\n",
       "    .dataframe tbody tr th {\n",
       "        vertical-align: top;\n",
       "    }\n",
       "\n",
       "    .dataframe thead th {\n",
       "        text-align: right;\n",
       "    }\n",
       "</style>\n",
       "<table border=\"1\" class=\"dataframe\">\n",
       "  <thead>\n",
       "    <tr style=\"text-align: right;\">\n",
       "      <th></th>\n",
       "      <th>ID</th>\n",
       "      <th>Year_Birth</th>\n",
       "      <th>Education</th>\n",
       "      <th>Marital_Status</th>\n",
       "      <th>Income</th>\n",
       "      <th>Kidhome</th>\n",
       "      <th>Teenhome</th>\n",
       "      <th>Dt_Customer</th>\n",
       "      <th>Recency</th>\n",
       "      <th>MntWines</th>\n",
       "      <th>...</th>\n",
       "      <th>NumWebVisitsMonth</th>\n",
       "      <th>AcceptedCmp3</th>\n",
       "      <th>AcceptedCmp4</th>\n",
       "      <th>AcceptedCmp5</th>\n",
       "      <th>AcceptedCmp1</th>\n",
       "      <th>AcceptedCmp2</th>\n",
       "      <th>Complain</th>\n",
       "      <th>Z_CostContact</th>\n",
       "      <th>Z_Revenue</th>\n",
       "      <th>Response</th>\n",
       "    </tr>\n",
       "  </thead>\n",
       "  <tbody>\n",
       "    <tr>\n",
       "      <th>0</th>\n",
       "      <td>5524</td>\n",
       "      <td>1957</td>\n",
       "      <td>Graduation</td>\n",
       "      <td>Single</td>\n",
       "      <td>58138.0</td>\n",
       "      <td>0</td>\n",
       "      <td>0</td>\n",
       "      <td>04-09-2012</td>\n",
       "      <td>58</td>\n",
       "      <td>635</td>\n",
       "      <td>...</td>\n",
       "      <td>7</td>\n",
       "      <td>0</td>\n",
       "      <td>0</td>\n",
       "      <td>0</td>\n",
       "      <td>0</td>\n",
       "      <td>0</td>\n",
       "      <td>0</td>\n",
       "      <td>3</td>\n",
       "      <td>11</td>\n",
       "      <td>1</td>\n",
       "    </tr>\n",
       "    <tr>\n",
       "      <th>1</th>\n",
       "      <td>2174</td>\n",
       "      <td>1954</td>\n",
       "      <td>Graduation</td>\n",
       "      <td>Single</td>\n",
       "      <td>46344.0</td>\n",
       "      <td>1</td>\n",
       "      <td>1</td>\n",
       "      <td>08-03-2014</td>\n",
       "      <td>38</td>\n",
       "      <td>11</td>\n",
       "      <td>...</td>\n",
       "      <td>5</td>\n",
       "      <td>0</td>\n",
       "      <td>0</td>\n",
       "      <td>0</td>\n",
       "      <td>0</td>\n",
       "      <td>0</td>\n",
       "      <td>0</td>\n",
       "      <td>3</td>\n",
       "      <td>11</td>\n",
       "      <td>0</td>\n",
       "    </tr>\n",
       "    <tr>\n",
       "      <th>2</th>\n",
       "      <td>4141</td>\n",
       "      <td>1965</td>\n",
       "      <td>Graduation</td>\n",
       "      <td>Together</td>\n",
       "      <td>71613.0</td>\n",
       "      <td>0</td>\n",
       "      <td>0</td>\n",
       "      <td>21-08-2013</td>\n",
       "      <td>26</td>\n",
       "      <td>426</td>\n",
       "      <td>...</td>\n",
       "      <td>4</td>\n",
       "      <td>0</td>\n",
       "      <td>0</td>\n",
       "      <td>0</td>\n",
       "      <td>0</td>\n",
       "      <td>0</td>\n",
       "      <td>0</td>\n",
       "      <td>3</td>\n",
       "      <td>11</td>\n",
       "      <td>0</td>\n",
       "    </tr>\n",
       "    <tr>\n",
       "      <th>3</th>\n",
       "      <td>6182</td>\n",
       "      <td>1984</td>\n",
       "      <td>Graduation</td>\n",
       "      <td>Together</td>\n",
       "      <td>26646.0</td>\n",
       "      <td>1</td>\n",
       "      <td>0</td>\n",
       "      <td>10-02-2014</td>\n",
       "      <td>26</td>\n",
       "      <td>11</td>\n",
       "      <td>...</td>\n",
       "      <td>6</td>\n",
       "      <td>0</td>\n",
       "      <td>0</td>\n",
       "      <td>0</td>\n",
       "      <td>0</td>\n",
       "      <td>0</td>\n",
       "      <td>0</td>\n",
       "      <td>3</td>\n",
       "      <td>11</td>\n",
       "      <td>0</td>\n",
       "    </tr>\n",
       "    <tr>\n",
       "      <th>4</th>\n",
       "      <td>5324</td>\n",
       "      <td>1981</td>\n",
       "      <td>PhD</td>\n",
       "      <td>Married</td>\n",
       "      <td>58293.0</td>\n",
       "      <td>1</td>\n",
       "      <td>0</td>\n",
       "      <td>19-01-2014</td>\n",
       "      <td>94</td>\n",
       "      <td>173</td>\n",
       "      <td>...</td>\n",
       "      <td>5</td>\n",
       "      <td>0</td>\n",
       "      <td>0</td>\n",
       "      <td>0</td>\n",
       "      <td>0</td>\n",
       "      <td>0</td>\n",
       "      <td>0</td>\n",
       "      <td>3</td>\n",
       "      <td>11</td>\n",
       "      <td>0</td>\n",
       "    </tr>\n",
       "  </tbody>\n",
       "</table>\n",
       "<p>5 rows × 29 columns</p>\n",
       "</div>"
      ],
      "text/plain": [
       "     ID  Year_Birth   Education Marital_Status   Income  Kidhome  Teenhome  \\\n",
       "0  5524        1957  Graduation         Single  58138.0        0         0   \n",
       "1  2174        1954  Graduation         Single  46344.0        1         1   \n",
       "2  4141        1965  Graduation       Together  71613.0        0         0   \n",
       "3  6182        1984  Graduation       Together  26646.0        1         0   \n",
       "4  5324        1981         PhD        Married  58293.0        1         0   \n",
       "\n",
       "  Dt_Customer  Recency  MntWines  ...  NumWebVisitsMonth  AcceptedCmp3  \\\n",
       "0  04-09-2012       58       635  ...                  7             0   \n",
       "1  08-03-2014       38        11  ...                  5             0   \n",
       "2  21-08-2013       26       426  ...                  4             0   \n",
       "3  10-02-2014       26        11  ...                  6             0   \n",
       "4  19-01-2014       94       173  ...                  5             0   \n",
       "\n",
       "   AcceptedCmp4  AcceptedCmp5  AcceptedCmp1  AcceptedCmp2  Complain  \\\n",
       "0             0             0             0             0         0   \n",
       "1             0             0             0             0         0   \n",
       "2             0             0             0             0         0   \n",
       "3             0             0             0             0         0   \n",
       "4             0             0             0             0         0   \n",
       "\n",
       "   Z_CostContact  Z_Revenue  Response  \n",
       "0              3         11         1  \n",
       "1              3         11         0  \n",
       "2              3         11         0  \n",
       "3              3         11         0  \n",
       "4              3         11         0  \n",
       "\n",
       "[5 rows x 29 columns]"
      ]
     },
     "execution_count": 2,
     "metadata": {},
     "output_type": "execute_result"
    }
   ],
   "source": [
    "df.head()"
   ]
  },
  {
   "cell_type": "markdown",
   "id": "8057c3ee",
   "metadata": {},
   "source": [
    "**Keterangan Kolom:**\n",
    "1. ID: Identifikasi unik pelanggan.\n",
    "2. Year_Birth: Tahun kelahiran pelanggan.\n",
    "3. Education: Tingkat pendidikan pelanggan.\n",
    "4. Marital_Status: Status pernikahan pelanggan.\n",
    "5. Income: Pendapatan tahunan rumah tangga pelanggan.\n",
    "6. Kidhome: Jumlah anak-anak dalam rumah tangga pelanggan.\n",
    "7. Teenhome: Jumlah remaja dalam rumah tangga pelanggan.\n",
    "8. Dt_Customer: Tanggal pendaftaran pelanggan dengan perusahaan.\n",
    "9. Recency: Jumlah hari sejak pembelian terakhir oleh pelanggan.\n",
    "10. Complain: 1 jika pelanggan mengajukan keluhan dalam 2 tahun terakhir, 0 sebaliknya.\n",
    "11. MntWines: Jumlah uang yang dihabiskan untuk pembelian wine dalam 2 tahun terakhir.\n",
    "12. MntFruits: Jumlah uang yang dihabiskan untuk pembelian buah-buahan dalam 2 tahun terakhir.\n",
    "13. MntMeatProducts: Jumlah uang yang dihabiskan untuk pembelian produk meat dalam 2 tahun terakhir.\n",
    "14. MntFishProducts: Jumlah uang yang dihabiskan untuk pembelian produk ikan dalam 2 tahun terakhir.\n",
    "15. MntSweetProducts: Jumlah uang yang dihabiskan untuk pembelian produk kue-manis dalam 2 tahun terakhir.\n",
    "16. MntGoldProds: Jumlah uang yang dihabiskan untuk pembelian produk gold dalam 2 tahun terakhir.\n",
    "17. NumDealsPurchases: Jumlah pembelian yang dilakukan dengan diskon.\n",
    "18. AcceptedCmp1 - AcceptedCmp5: 1 jika pelanggan menerima tawaran dalam kampanye ke-1 hingga ke-5, 0 sebaliknya.\n",
    "19. Response: 1 jika pelanggan menerima tawaran dalam kampanye terakhir, 0 sebaliknya.\n",
    "20. NumWebPurchases: Jumlah pembelian yang dilakukan melalui situs web perusahaan.\n",
    "21. NumCatalogPurchases: Jumlah pembelian yang dilakukan menggunakan katalog.\n",
    "22. NumStorePurchases: Jumlah pembelian yang dilakukan langsung di toko-toko perusahaan.\n",
    "23. NumWebVisitsMonth: Jumlah kunjungan ke situs web perusahaan dalam sebulan terakhir."
   ]
  },
  {
   "cell_type": "code",
   "execution_count": 3,
   "id": "18cfcf01",
   "metadata": {},
   "outputs": [
    {
     "data": {
      "text/plain": [
       "(2240, 29)"
      ]
     },
     "execution_count": 3,
     "metadata": {},
     "output_type": "execute_result"
    }
   ],
   "source": [
    "df.shape"
   ]
  },
  {
   "cell_type": "code",
   "execution_count": 4,
   "id": "c94e672f",
   "metadata": {},
   "outputs": [
    {
     "name": "stdout",
     "output_type": "stream",
     "text": [
      "<class 'pandas.core.frame.DataFrame'>\n",
      "RangeIndex: 2240 entries, 0 to 2239\n",
      "Data columns (total 29 columns):\n",
      " #   Column               Non-Null Count  Dtype  \n",
      "---  ------               --------------  -----  \n",
      " 0   ID                   2240 non-null   int64  \n",
      " 1   Year_Birth           2240 non-null   int64  \n",
      " 2   Education            2240 non-null   object \n",
      " 3   Marital_Status       2240 non-null   object \n",
      " 4   Income               2216 non-null   float64\n",
      " 5   Kidhome              2240 non-null   int64  \n",
      " 6   Teenhome             2240 non-null   int64  \n",
      " 7   Dt_Customer          2240 non-null   object \n",
      " 8   Recency              2240 non-null   int64  \n",
      " 9   MntWines             2240 non-null   int64  \n",
      " 10  MntFruits            2240 non-null   int64  \n",
      " 11  MntMeatProducts      2240 non-null   int64  \n",
      " 12  MntFishProducts      2240 non-null   int64  \n",
      " 13  MntSweetProducts     2240 non-null   int64  \n",
      " 14  MntGoldProds         2240 non-null   int64  \n",
      " 15  NumDealsPurchases    2240 non-null   int64  \n",
      " 16  NumWebPurchases      2240 non-null   int64  \n",
      " 17  NumCatalogPurchases  2240 non-null   int64  \n",
      " 18  NumStorePurchases    2240 non-null   int64  \n",
      " 19  NumWebVisitsMonth    2240 non-null   int64  \n",
      " 20  AcceptedCmp3         2240 non-null   int64  \n",
      " 21  AcceptedCmp4         2240 non-null   int64  \n",
      " 22  AcceptedCmp5         2240 non-null   int64  \n",
      " 23  AcceptedCmp1         2240 non-null   int64  \n",
      " 24  AcceptedCmp2         2240 non-null   int64  \n",
      " 25  Complain             2240 non-null   int64  \n",
      " 26  Z_CostContact        2240 non-null   int64  \n",
      " 27  Z_Revenue            2240 non-null   int64  \n",
      " 28  Response             2240 non-null   int64  \n",
      "dtypes: float64(1), int64(25), object(3)\n",
      "memory usage: 507.6+ KB\n"
     ]
    }
   ],
   "source": [
    "df.info()"
   ]
  },
  {
   "cell_type": "code",
   "execution_count": 5,
   "id": "530f1c73",
   "metadata": {},
   "outputs": [],
   "source": [
    "#merubah tipe data menjadi datetime\n",
    "df['Dt_Customer'] = pd.to_datetime(df['Dt_Customer'])"
   ]
  },
  {
   "cell_type": "code",
   "execution_count": 6,
   "id": "f119ccd6",
   "metadata": {},
   "outputs": [
    {
     "data": {
      "text/html": [
       "<div>\n",
       "<style scoped>\n",
       "    .dataframe tbody tr th:only-of-type {\n",
       "        vertical-align: middle;\n",
       "    }\n",
       "\n",
       "    .dataframe tbody tr th {\n",
       "        vertical-align: top;\n",
       "    }\n",
       "\n",
       "    .dataframe thead th {\n",
       "        text-align: right;\n",
       "    }\n",
       "</style>\n",
       "<table border=\"1\" class=\"dataframe\">\n",
       "  <thead>\n",
       "    <tr style=\"text-align: right;\">\n",
       "      <th></th>\n",
       "      <th>ID</th>\n",
       "      <th>Year_Birth</th>\n",
       "      <th>Income</th>\n",
       "      <th>Kidhome</th>\n",
       "      <th>Teenhome</th>\n",
       "      <th>Recency</th>\n",
       "      <th>MntWines</th>\n",
       "      <th>MntFruits</th>\n",
       "      <th>MntMeatProducts</th>\n",
       "      <th>MntFishProducts</th>\n",
       "      <th>...</th>\n",
       "      <th>NumWebVisitsMonth</th>\n",
       "      <th>AcceptedCmp3</th>\n",
       "      <th>AcceptedCmp4</th>\n",
       "      <th>AcceptedCmp5</th>\n",
       "      <th>AcceptedCmp1</th>\n",
       "      <th>AcceptedCmp2</th>\n",
       "      <th>Complain</th>\n",
       "      <th>Z_CostContact</th>\n",
       "      <th>Z_Revenue</th>\n",
       "      <th>Response</th>\n",
       "    </tr>\n",
       "  </thead>\n",
       "  <tbody>\n",
       "    <tr>\n",
       "      <th>count</th>\n",
       "      <td>2240.000000</td>\n",
       "      <td>2240.000000</td>\n",
       "      <td>2216.000000</td>\n",
       "      <td>2240.000000</td>\n",
       "      <td>2240.000000</td>\n",
       "      <td>2240.000000</td>\n",
       "      <td>2240.000000</td>\n",
       "      <td>2240.000000</td>\n",
       "      <td>2240.000000</td>\n",
       "      <td>2240.000000</td>\n",
       "      <td>...</td>\n",
       "      <td>2240.000000</td>\n",
       "      <td>2240.000000</td>\n",
       "      <td>2240.000000</td>\n",
       "      <td>2240.000000</td>\n",
       "      <td>2240.000000</td>\n",
       "      <td>2240.000000</td>\n",
       "      <td>2240.000000</td>\n",
       "      <td>2240.0</td>\n",
       "      <td>2240.0</td>\n",
       "      <td>2240.000000</td>\n",
       "    </tr>\n",
       "    <tr>\n",
       "      <th>mean</th>\n",
       "      <td>5592.159821</td>\n",
       "      <td>1968.805804</td>\n",
       "      <td>52247.251354</td>\n",
       "      <td>0.444196</td>\n",
       "      <td>0.506250</td>\n",
       "      <td>49.109375</td>\n",
       "      <td>303.935714</td>\n",
       "      <td>26.302232</td>\n",
       "      <td>166.950000</td>\n",
       "      <td>37.525446</td>\n",
       "      <td>...</td>\n",
       "      <td>5.316518</td>\n",
       "      <td>0.072768</td>\n",
       "      <td>0.074554</td>\n",
       "      <td>0.072768</td>\n",
       "      <td>0.064286</td>\n",
       "      <td>0.013393</td>\n",
       "      <td>0.009375</td>\n",
       "      <td>3.0</td>\n",
       "      <td>11.0</td>\n",
       "      <td>0.149107</td>\n",
       "    </tr>\n",
       "    <tr>\n",
       "      <th>std</th>\n",
       "      <td>3246.662198</td>\n",
       "      <td>11.984069</td>\n",
       "      <td>25173.076661</td>\n",
       "      <td>0.538398</td>\n",
       "      <td>0.544538</td>\n",
       "      <td>28.962453</td>\n",
       "      <td>336.597393</td>\n",
       "      <td>39.773434</td>\n",
       "      <td>225.715373</td>\n",
       "      <td>54.628979</td>\n",
       "      <td>...</td>\n",
       "      <td>2.426645</td>\n",
       "      <td>0.259813</td>\n",
       "      <td>0.262728</td>\n",
       "      <td>0.259813</td>\n",
       "      <td>0.245316</td>\n",
       "      <td>0.114976</td>\n",
       "      <td>0.096391</td>\n",
       "      <td>0.0</td>\n",
       "      <td>0.0</td>\n",
       "      <td>0.356274</td>\n",
       "    </tr>\n",
       "    <tr>\n",
       "      <th>min</th>\n",
       "      <td>0.000000</td>\n",
       "      <td>1893.000000</td>\n",
       "      <td>1730.000000</td>\n",
       "      <td>0.000000</td>\n",
       "      <td>0.000000</td>\n",
       "      <td>0.000000</td>\n",
       "      <td>0.000000</td>\n",
       "      <td>0.000000</td>\n",
       "      <td>0.000000</td>\n",
       "      <td>0.000000</td>\n",
       "      <td>...</td>\n",
       "      <td>0.000000</td>\n",
       "      <td>0.000000</td>\n",
       "      <td>0.000000</td>\n",
       "      <td>0.000000</td>\n",
       "      <td>0.000000</td>\n",
       "      <td>0.000000</td>\n",
       "      <td>0.000000</td>\n",
       "      <td>3.0</td>\n",
       "      <td>11.0</td>\n",
       "      <td>0.000000</td>\n",
       "    </tr>\n",
       "    <tr>\n",
       "      <th>25%</th>\n",
       "      <td>2828.250000</td>\n",
       "      <td>1959.000000</td>\n",
       "      <td>35303.000000</td>\n",
       "      <td>0.000000</td>\n",
       "      <td>0.000000</td>\n",
       "      <td>24.000000</td>\n",
       "      <td>23.750000</td>\n",
       "      <td>1.000000</td>\n",
       "      <td>16.000000</td>\n",
       "      <td>3.000000</td>\n",
       "      <td>...</td>\n",
       "      <td>3.000000</td>\n",
       "      <td>0.000000</td>\n",
       "      <td>0.000000</td>\n",
       "      <td>0.000000</td>\n",
       "      <td>0.000000</td>\n",
       "      <td>0.000000</td>\n",
       "      <td>0.000000</td>\n",
       "      <td>3.0</td>\n",
       "      <td>11.0</td>\n",
       "      <td>0.000000</td>\n",
       "    </tr>\n",
       "    <tr>\n",
       "      <th>50%</th>\n",
       "      <td>5458.500000</td>\n",
       "      <td>1970.000000</td>\n",
       "      <td>51381.500000</td>\n",
       "      <td>0.000000</td>\n",
       "      <td>0.000000</td>\n",
       "      <td>49.000000</td>\n",
       "      <td>173.500000</td>\n",
       "      <td>8.000000</td>\n",
       "      <td>67.000000</td>\n",
       "      <td>12.000000</td>\n",
       "      <td>...</td>\n",
       "      <td>6.000000</td>\n",
       "      <td>0.000000</td>\n",
       "      <td>0.000000</td>\n",
       "      <td>0.000000</td>\n",
       "      <td>0.000000</td>\n",
       "      <td>0.000000</td>\n",
       "      <td>0.000000</td>\n",
       "      <td>3.0</td>\n",
       "      <td>11.0</td>\n",
       "      <td>0.000000</td>\n",
       "    </tr>\n",
       "    <tr>\n",
       "      <th>75%</th>\n",
       "      <td>8427.750000</td>\n",
       "      <td>1977.000000</td>\n",
       "      <td>68522.000000</td>\n",
       "      <td>1.000000</td>\n",
       "      <td>1.000000</td>\n",
       "      <td>74.000000</td>\n",
       "      <td>504.250000</td>\n",
       "      <td>33.000000</td>\n",
       "      <td>232.000000</td>\n",
       "      <td>50.000000</td>\n",
       "      <td>...</td>\n",
       "      <td>7.000000</td>\n",
       "      <td>0.000000</td>\n",
       "      <td>0.000000</td>\n",
       "      <td>0.000000</td>\n",
       "      <td>0.000000</td>\n",
       "      <td>0.000000</td>\n",
       "      <td>0.000000</td>\n",
       "      <td>3.0</td>\n",
       "      <td>11.0</td>\n",
       "      <td>0.000000</td>\n",
       "    </tr>\n",
       "    <tr>\n",
       "      <th>max</th>\n",
       "      <td>11191.000000</td>\n",
       "      <td>1996.000000</td>\n",
       "      <td>666666.000000</td>\n",
       "      <td>2.000000</td>\n",
       "      <td>2.000000</td>\n",
       "      <td>99.000000</td>\n",
       "      <td>1493.000000</td>\n",
       "      <td>199.000000</td>\n",
       "      <td>1725.000000</td>\n",
       "      <td>259.000000</td>\n",
       "      <td>...</td>\n",
       "      <td>20.000000</td>\n",
       "      <td>1.000000</td>\n",
       "      <td>1.000000</td>\n",
       "      <td>1.000000</td>\n",
       "      <td>1.000000</td>\n",
       "      <td>1.000000</td>\n",
       "      <td>1.000000</td>\n",
       "      <td>3.0</td>\n",
       "      <td>11.0</td>\n",
       "      <td>1.000000</td>\n",
       "    </tr>\n",
       "  </tbody>\n",
       "</table>\n",
       "<p>8 rows × 26 columns</p>\n",
       "</div>"
      ],
      "text/plain": [
       "                 ID   Year_Birth         Income      Kidhome     Teenhome  \\\n",
       "count   2240.000000  2240.000000    2216.000000  2240.000000  2240.000000   \n",
       "mean    5592.159821  1968.805804   52247.251354     0.444196     0.506250   \n",
       "std     3246.662198    11.984069   25173.076661     0.538398     0.544538   \n",
       "min        0.000000  1893.000000    1730.000000     0.000000     0.000000   \n",
       "25%     2828.250000  1959.000000   35303.000000     0.000000     0.000000   \n",
       "50%     5458.500000  1970.000000   51381.500000     0.000000     0.000000   \n",
       "75%     8427.750000  1977.000000   68522.000000     1.000000     1.000000   \n",
       "max    11191.000000  1996.000000  666666.000000     2.000000     2.000000   \n",
       "\n",
       "           Recency     MntWines    MntFruits  MntMeatProducts  \\\n",
       "count  2240.000000  2240.000000  2240.000000      2240.000000   \n",
       "mean     49.109375   303.935714    26.302232       166.950000   \n",
       "std      28.962453   336.597393    39.773434       225.715373   \n",
       "min       0.000000     0.000000     0.000000         0.000000   \n",
       "25%      24.000000    23.750000     1.000000        16.000000   \n",
       "50%      49.000000   173.500000     8.000000        67.000000   \n",
       "75%      74.000000   504.250000    33.000000       232.000000   \n",
       "max      99.000000  1493.000000   199.000000      1725.000000   \n",
       "\n",
       "       MntFishProducts  ...  NumWebVisitsMonth  AcceptedCmp3  AcceptedCmp4  \\\n",
       "count      2240.000000  ...        2240.000000   2240.000000   2240.000000   \n",
       "mean         37.525446  ...           5.316518      0.072768      0.074554   \n",
       "std          54.628979  ...           2.426645      0.259813      0.262728   \n",
       "min           0.000000  ...           0.000000      0.000000      0.000000   \n",
       "25%           3.000000  ...           3.000000      0.000000      0.000000   \n",
       "50%          12.000000  ...           6.000000      0.000000      0.000000   \n",
       "75%          50.000000  ...           7.000000      0.000000      0.000000   \n",
       "max         259.000000  ...          20.000000      1.000000      1.000000   \n",
       "\n",
       "       AcceptedCmp5  AcceptedCmp1  AcceptedCmp2     Complain  Z_CostContact  \\\n",
       "count   2240.000000   2240.000000   2240.000000  2240.000000         2240.0   \n",
       "mean       0.072768      0.064286      0.013393     0.009375            3.0   \n",
       "std        0.259813      0.245316      0.114976     0.096391            0.0   \n",
       "min        0.000000      0.000000      0.000000     0.000000            3.0   \n",
       "25%        0.000000      0.000000      0.000000     0.000000            3.0   \n",
       "50%        0.000000      0.000000      0.000000     0.000000            3.0   \n",
       "75%        0.000000      0.000000      0.000000     0.000000            3.0   \n",
       "max        1.000000      1.000000      1.000000     1.000000            3.0   \n",
       "\n",
       "       Z_Revenue     Response  \n",
       "count     2240.0  2240.000000  \n",
       "mean        11.0     0.149107  \n",
       "std          0.0     0.356274  \n",
       "min         11.0     0.000000  \n",
       "25%         11.0     0.000000  \n",
       "50%         11.0     0.000000  \n",
       "75%         11.0     0.000000  \n",
       "max         11.0     1.000000  \n",
       "\n",
       "[8 rows x 26 columns]"
      ]
     },
     "metadata": {},
     "output_type": "display_data"
    },
    {
     "data": {
      "text/html": [
       "<div>\n",
       "<style scoped>\n",
       "    .dataframe tbody tr th:only-of-type {\n",
       "        vertical-align: middle;\n",
       "    }\n",
       "\n",
       "    .dataframe tbody tr th {\n",
       "        vertical-align: top;\n",
       "    }\n",
       "\n",
       "    .dataframe thead th {\n",
       "        text-align: right;\n",
       "    }\n",
       "</style>\n",
       "<table border=\"1\" class=\"dataframe\">\n",
       "  <thead>\n",
       "    <tr style=\"text-align: right;\">\n",
       "      <th></th>\n",
       "      <th>Education</th>\n",
       "      <th>Marital_Status</th>\n",
       "    </tr>\n",
       "  </thead>\n",
       "  <tbody>\n",
       "    <tr>\n",
       "      <th>count</th>\n",
       "      <td>2240</td>\n",
       "      <td>2240</td>\n",
       "    </tr>\n",
       "    <tr>\n",
       "      <th>unique</th>\n",
       "      <td>5</td>\n",
       "      <td>8</td>\n",
       "    </tr>\n",
       "    <tr>\n",
       "      <th>top</th>\n",
       "      <td>Graduation</td>\n",
       "      <td>Married</td>\n",
       "    </tr>\n",
       "    <tr>\n",
       "      <th>freq</th>\n",
       "      <td>1127</td>\n",
       "      <td>864</td>\n",
       "    </tr>\n",
       "  </tbody>\n",
       "</table>\n",
       "</div>"
      ],
      "text/plain": [
       "         Education Marital_Status\n",
       "count         2240           2240\n",
       "unique           5              8\n",
       "top     Graduation        Married\n",
       "freq          1127            864"
      ]
     },
     "metadata": {},
     "output_type": "display_data"
    }
   ],
   "source": [
    "display(df.describe(), df.describe(include='object'))"
   ]
  },
  {
   "cell_type": "markdown",
   "id": "091dffe2",
   "metadata": {},
   "source": [
    "## Data Cleaning"
   ]
  },
  {
   "cell_type": "markdown",
   "id": "62c586d7",
   "metadata": {},
   "source": [
    "**Drop Kolom**\n",
    "\n",
    "Setelah diperhatikan terdapat kolom yang tidak ada di dictionary dan semuanya bernilai sama, kita akan drop kolom 'Z_CostContact' dan 'Z_Revenue'"
   ]
  },
  {
   "cell_type": "code",
   "execution_count": 7,
   "id": "be87e432",
   "metadata": {},
   "outputs": [],
   "source": [
    "df = df.drop(['Z_CostContact', 'Z_Revenue'], axis=1)"
   ]
  },
  {
   "cell_type": "markdown",
   "id": "ae1c8aea",
   "metadata": {},
   "source": [
    "**Mencari Duplikat**"
   ]
  },
  {
   "cell_type": "code",
   "execution_count": 8,
   "id": "495fdf3e",
   "metadata": {},
   "outputs": [
    {
     "data": {
      "text/html": [
       "<div>\n",
       "<style scoped>\n",
       "    .dataframe tbody tr th:only-of-type {\n",
       "        vertical-align: middle;\n",
       "    }\n",
       "\n",
       "    .dataframe tbody tr th {\n",
       "        vertical-align: top;\n",
       "    }\n",
       "\n",
       "    .dataframe thead th {\n",
       "        text-align: right;\n",
       "    }\n",
       "</style>\n",
       "<table border=\"1\" class=\"dataframe\">\n",
       "  <thead>\n",
       "    <tr style=\"text-align: right;\">\n",
       "      <th></th>\n",
       "      <th>ID</th>\n",
       "      <th>Year_Birth</th>\n",
       "      <th>Education</th>\n",
       "      <th>Marital_Status</th>\n",
       "      <th>Income</th>\n",
       "      <th>Kidhome</th>\n",
       "      <th>Teenhome</th>\n",
       "      <th>Dt_Customer</th>\n",
       "      <th>Recency</th>\n",
       "      <th>MntWines</th>\n",
       "      <th>...</th>\n",
       "      <th>NumCatalogPurchases</th>\n",
       "      <th>NumStorePurchases</th>\n",
       "      <th>NumWebVisitsMonth</th>\n",
       "      <th>AcceptedCmp3</th>\n",
       "      <th>AcceptedCmp4</th>\n",
       "      <th>AcceptedCmp5</th>\n",
       "      <th>AcceptedCmp1</th>\n",
       "      <th>AcceptedCmp2</th>\n",
       "      <th>Complain</th>\n",
       "      <th>Response</th>\n",
       "    </tr>\n",
       "  </thead>\n",
       "  <tbody>\n",
       "  </tbody>\n",
       "</table>\n",
       "<p>0 rows × 27 columns</p>\n",
       "</div>"
      ],
      "text/plain": [
       "Empty DataFrame\n",
       "Columns: [ID, Year_Birth, Education, Marital_Status, Income, Kidhome, Teenhome, Dt_Customer, Recency, MntWines, MntFruits, MntMeatProducts, MntFishProducts, MntSweetProducts, MntGoldProds, NumDealsPurchases, NumWebPurchases, NumCatalogPurchases, NumStorePurchases, NumWebVisitsMonth, AcceptedCmp3, AcceptedCmp4, AcceptedCmp5, AcceptedCmp1, AcceptedCmp2, Complain, Response]\n",
       "Index: []\n",
       "\n",
       "[0 rows x 27 columns]"
      ]
     },
     "execution_count": 8,
     "metadata": {},
     "output_type": "execute_result"
    }
   ],
   "source": [
    "#Mencari duplikat\n",
    "duplikat = df[df.duplicated()]\n",
    "duplikat"
   ]
  },
  {
   "cell_type": "markdown",
   "id": "fa394871",
   "metadata": {},
   "source": [
    "Setelah diperhatikan, tidak ada data yang duplikat.\n",
    "\n",
    "**Mencari Data yang Kosong**"
   ]
  },
  {
   "cell_type": "code",
   "execution_count": 9,
   "id": "88d0047a",
   "metadata": {},
   "outputs": [
    {
     "data": {
      "text/plain": [
       "ID                      0\n",
       "Year_Birth              0\n",
       "Education               0\n",
       "Marital_Status          0\n",
       "Income                 24\n",
       "Kidhome                 0\n",
       "Teenhome                0\n",
       "Dt_Customer             0\n",
       "Recency                 0\n",
       "MntWines                0\n",
       "MntFruits               0\n",
       "MntMeatProducts         0\n",
       "MntFishProducts         0\n",
       "MntSweetProducts        0\n",
       "MntGoldProds            0\n",
       "NumDealsPurchases       0\n",
       "NumWebPurchases         0\n",
       "NumCatalogPurchases     0\n",
       "NumStorePurchases       0\n",
       "NumWebVisitsMonth       0\n",
       "AcceptedCmp3            0\n",
       "AcceptedCmp4            0\n",
       "AcceptedCmp5            0\n",
       "AcceptedCmp1            0\n",
       "AcceptedCmp2            0\n",
       "Complain                0\n",
       "Response                0\n",
       "dtype: int64"
      ]
     },
     "execution_count": 9,
     "metadata": {},
     "output_type": "execute_result"
    }
   ],
   "source": [
    "#Mencari data yang kosong\n",
    "df.isna().sum()"
   ]
  },
  {
   "cell_type": "markdown",
   "id": "86dc0c7f",
   "metadata": {},
   "source": [
    "Terdapat data yang kosong pada kolom 'Income', kita akan coba evaluasi apakah data tersebut pantas untuk dipertahankan"
   ]
  },
  {
   "cell_type": "code",
   "execution_count": 10,
   "id": "65ed59c7",
   "metadata": {},
   "outputs": [
    {
     "data": {
      "text/html": [
       "<div>\n",
       "<style scoped>\n",
       "    .dataframe tbody tr th:only-of-type {\n",
       "        vertical-align: middle;\n",
       "    }\n",
       "\n",
       "    .dataframe tbody tr th {\n",
       "        vertical-align: top;\n",
       "    }\n",
       "\n",
       "    .dataframe thead th {\n",
       "        text-align: right;\n",
       "    }\n",
       "</style>\n",
       "<table border=\"1\" class=\"dataframe\">\n",
       "  <thead>\n",
       "    <tr style=\"text-align: right;\">\n",
       "      <th></th>\n",
       "      <th>ID</th>\n",
       "      <th>Year_Birth</th>\n",
       "      <th>Education</th>\n",
       "      <th>Marital_Status</th>\n",
       "      <th>Income</th>\n",
       "      <th>Kidhome</th>\n",
       "      <th>Teenhome</th>\n",
       "      <th>Dt_Customer</th>\n",
       "      <th>Recency</th>\n",
       "      <th>MntWines</th>\n",
       "      <th>...</th>\n",
       "      <th>NumCatalogPurchases</th>\n",
       "      <th>NumStorePurchases</th>\n",
       "      <th>NumWebVisitsMonth</th>\n",
       "      <th>AcceptedCmp3</th>\n",
       "      <th>AcceptedCmp4</th>\n",
       "      <th>AcceptedCmp5</th>\n",
       "      <th>AcceptedCmp1</th>\n",
       "      <th>AcceptedCmp2</th>\n",
       "      <th>Complain</th>\n",
       "      <th>Response</th>\n",
       "    </tr>\n",
       "  </thead>\n",
       "  <tbody>\n",
       "    <tr>\n",
       "      <th>10</th>\n",
       "      <td>1994</td>\n",
       "      <td>1983</td>\n",
       "      <td>Graduation</td>\n",
       "      <td>Married</td>\n",
       "      <td>NaN</td>\n",
       "      <td>1</td>\n",
       "      <td>0</td>\n",
       "      <td>2013-11-15</td>\n",
       "      <td>11</td>\n",
       "      <td>5</td>\n",
       "      <td>...</td>\n",
       "      <td>0</td>\n",
       "      <td>2</td>\n",
       "      <td>7</td>\n",
       "      <td>0</td>\n",
       "      <td>0</td>\n",
       "      <td>0</td>\n",
       "      <td>0</td>\n",
       "      <td>0</td>\n",
       "      <td>0</td>\n",
       "      <td>0</td>\n",
       "    </tr>\n",
       "    <tr>\n",
       "      <th>27</th>\n",
       "      <td>5255</td>\n",
       "      <td>1986</td>\n",
       "      <td>Graduation</td>\n",
       "      <td>Single</td>\n",
       "      <td>NaN</td>\n",
       "      <td>1</td>\n",
       "      <td>0</td>\n",
       "      <td>2013-02-20</td>\n",
       "      <td>19</td>\n",
       "      <td>5</td>\n",
       "      <td>...</td>\n",
       "      <td>0</td>\n",
       "      <td>0</td>\n",
       "      <td>1</td>\n",
       "      <td>0</td>\n",
       "      <td>0</td>\n",
       "      <td>0</td>\n",
       "      <td>0</td>\n",
       "      <td>0</td>\n",
       "      <td>0</td>\n",
       "      <td>0</td>\n",
       "    </tr>\n",
       "    <tr>\n",
       "      <th>43</th>\n",
       "      <td>7281</td>\n",
       "      <td>1959</td>\n",
       "      <td>PhD</td>\n",
       "      <td>Single</td>\n",
       "      <td>NaN</td>\n",
       "      <td>0</td>\n",
       "      <td>0</td>\n",
       "      <td>2013-05-11</td>\n",
       "      <td>80</td>\n",
       "      <td>81</td>\n",
       "      <td>...</td>\n",
       "      <td>3</td>\n",
       "      <td>4</td>\n",
       "      <td>2</td>\n",
       "      <td>0</td>\n",
       "      <td>0</td>\n",
       "      <td>0</td>\n",
       "      <td>0</td>\n",
       "      <td>0</td>\n",
       "      <td>0</td>\n",
       "      <td>0</td>\n",
       "    </tr>\n",
       "    <tr>\n",
       "      <th>48</th>\n",
       "      <td>7244</td>\n",
       "      <td>1951</td>\n",
       "      <td>Graduation</td>\n",
       "      <td>Single</td>\n",
       "      <td>NaN</td>\n",
       "      <td>2</td>\n",
       "      <td>1</td>\n",
       "      <td>2014-01-01</td>\n",
       "      <td>96</td>\n",
       "      <td>48</td>\n",
       "      <td>...</td>\n",
       "      <td>1</td>\n",
       "      <td>4</td>\n",
       "      <td>6</td>\n",
       "      <td>0</td>\n",
       "      <td>0</td>\n",
       "      <td>0</td>\n",
       "      <td>0</td>\n",
       "      <td>0</td>\n",
       "      <td>0</td>\n",
       "      <td>0</td>\n",
       "    </tr>\n",
       "    <tr>\n",
       "      <th>58</th>\n",
       "      <td>8557</td>\n",
       "      <td>1982</td>\n",
       "      <td>Graduation</td>\n",
       "      <td>Single</td>\n",
       "      <td>NaN</td>\n",
       "      <td>1</td>\n",
       "      <td>0</td>\n",
       "      <td>2013-06-17</td>\n",
       "      <td>57</td>\n",
       "      <td>11</td>\n",
       "      <td>...</td>\n",
       "      <td>0</td>\n",
       "      <td>3</td>\n",
       "      <td>6</td>\n",
       "      <td>0</td>\n",
       "      <td>0</td>\n",
       "      <td>0</td>\n",
       "      <td>0</td>\n",
       "      <td>0</td>\n",
       "      <td>0</td>\n",
       "      <td>0</td>\n",
       "    </tr>\n",
       "    <tr>\n",
       "      <th>71</th>\n",
       "      <td>10629</td>\n",
       "      <td>1973</td>\n",
       "      <td>2n Cycle</td>\n",
       "      <td>Married</td>\n",
       "      <td>NaN</td>\n",
       "      <td>1</td>\n",
       "      <td>0</td>\n",
       "      <td>2012-09-14</td>\n",
       "      <td>25</td>\n",
       "      <td>25</td>\n",
       "      <td>...</td>\n",
       "      <td>0</td>\n",
       "      <td>3</td>\n",
       "      <td>8</td>\n",
       "      <td>0</td>\n",
       "      <td>0</td>\n",
       "      <td>0</td>\n",
       "      <td>0</td>\n",
       "      <td>0</td>\n",
       "      <td>0</td>\n",
       "      <td>0</td>\n",
       "    </tr>\n",
       "    <tr>\n",
       "      <th>90</th>\n",
       "      <td>8996</td>\n",
       "      <td>1957</td>\n",
       "      <td>PhD</td>\n",
       "      <td>Married</td>\n",
       "      <td>NaN</td>\n",
       "      <td>2</td>\n",
       "      <td>1</td>\n",
       "      <td>2012-11-19</td>\n",
       "      <td>4</td>\n",
       "      <td>230</td>\n",
       "      <td>...</td>\n",
       "      <td>2</td>\n",
       "      <td>8</td>\n",
       "      <td>9</td>\n",
       "      <td>0</td>\n",
       "      <td>0</td>\n",
       "      <td>0</td>\n",
       "      <td>0</td>\n",
       "      <td>0</td>\n",
       "      <td>0</td>\n",
       "      <td>0</td>\n",
       "    </tr>\n",
       "    <tr>\n",
       "      <th>91</th>\n",
       "      <td>9235</td>\n",
       "      <td>1957</td>\n",
       "      <td>Graduation</td>\n",
       "      <td>Single</td>\n",
       "      <td>NaN</td>\n",
       "      <td>1</td>\n",
       "      <td>1</td>\n",
       "      <td>2014-05-27</td>\n",
       "      <td>45</td>\n",
       "      <td>7</td>\n",
       "      <td>...</td>\n",
       "      <td>0</td>\n",
       "      <td>2</td>\n",
       "      <td>7</td>\n",
       "      <td>0</td>\n",
       "      <td>0</td>\n",
       "      <td>0</td>\n",
       "      <td>0</td>\n",
       "      <td>0</td>\n",
       "      <td>0</td>\n",
       "      <td>0</td>\n",
       "    </tr>\n",
       "    <tr>\n",
       "      <th>92</th>\n",
       "      <td>5798</td>\n",
       "      <td>1973</td>\n",
       "      <td>Master</td>\n",
       "      <td>Together</td>\n",
       "      <td>NaN</td>\n",
       "      <td>0</td>\n",
       "      <td>0</td>\n",
       "      <td>2013-11-23</td>\n",
       "      <td>87</td>\n",
       "      <td>445</td>\n",
       "      <td>...</td>\n",
       "      <td>4</td>\n",
       "      <td>8</td>\n",
       "      <td>1</td>\n",
       "      <td>0</td>\n",
       "      <td>0</td>\n",
       "      <td>0</td>\n",
       "      <td>0</td>\n",
       "      <td>0</td>\n",
       "      <td>0</td>\n",
       "      <td>0</td>\n",
       "    </tr>\n",
       "    <tr>\n",
       "      <th>128</th>\n",
       "      <td>8268</td>\n",
       "      <td>1961</td>\n",
       "      <td>PhD</td>\n",
       "      <td>Married</td>\n",
       "      <td>NaN</td>\n",
       "      <td>0</td>\n",
       "      <td>1</td>\n",
       "      <td>2013-11-07</td>\n",
       "      <td>23</td>\n",
       "      <td>352</td>\n",
       "      <td>...</td>\n",
       "      <td>1</td>\n",
       "      <td>7</td>\n",
       "      <td>6</td>\n",
       "      <td>0</td>\n",
       "      <td>0</td>\n",
       "      <td>0</td>\n",
       "      <td>0</td>\n",
       "      <td>0</td>\n",
       "      <td>0</td>\n",
       "      <td>0</td>\n",
       "    </tr>\n",
       "    <tr>\n",
       "      <th>133</th>\n",
       "      <td>1295</td>\n",
       "      <td>1963</td>\n",
       "      <td>Graduation</td>\n",
       "      <td>Married</td>\n",
       "      <td>NaN</td>\n",
       "      <td>0</td>\n",
       "      <td>1</td>\n",
       "      <td>2013-11-08</td>\n",
       "      <td>96</td>\n",
       "      <td>231</td>\n",
       "      <td>...</td>\n",
       "      <td>5</td>\n",
       "      <td>7</td>\n",
       "      <td>4</td>\n",
       "      <td>0</td>\n",
       "      <td>0</td>\n",
       "      <td>0</td>\n",
       "      <td>0</td>\n",
       "      <td>0</td>\n",
       "      <td>0</td>\n",
       "      <td>0</td>\n",
       "    </tr>\n",
       "    <tr>\n",
       "      <th>312</th>\n",
       "      <td>2437</td>\n",
       "      <td>1989</td>\n",
       "      <td>Graduation</td>\n",
       "      <td>Married</td>\n",
       "      <td>NaN</td>\n",
       "      <td>0</td>\n",
       "      <td>0</td>\n",
       "      <td>2013-03-06</td>\n",
       "      <td>69</td>\n",
       "      <td>861</td>\n",
       "      <td>...</td>\n",
       "      <td>5</td>\n",
       "      <td>12</td>\n",
       "      <td>3</td>\n",
       "      <td>0</td>\n",
       "      <td>1</td>\n",
       "      <td>0</td>\n",
       "      <td>1</td>\n",
       "      <td>0</td>\n",
       "      <td>0</td>\n",
       "      <td>0</td>\n",
       "    </tr>\n",
       "    <tr>\n",
       "      <th>319</th>\n",
       "      <td>2863</td>\n",
       "      <td>1970</td>\n",
       "      <td>Graduation</td>\n",
       "      <td>Single</td>\n",
       "      <td>NaN</td>\n",
       "      <td>1</td>\n",
       "      <td>2</td>\n",
       "      <td>2013-08-23</td>\n",
       "      <td>67</td>\n",
       "      <td>738</td>\n",
       "      <td>...</td>\n",
       "      <td>3</td>\n",
       "      <td>10</td>\n",
       "      <td>7</td>\n",
       "      <td>0</td>\n",
       "      <td>1</td>\n",
       "      <td>0</td>\n",
       "      <td>1</td>\n",
       "      <td>0</td>\n",
       "      <td>0</td>\n",
       "      <td>0</td>\n",
       "    </tr>\n",
       "    <tr>\n",
       "      <th>1379</th>\n",
       "      <td>10475</td>\n",
       "      <td>1970</td>\n",
       "      <td>Master</td>\n",
       "      <td>Together</td>\n",
       "      <td>NaN</td>\n",
       "      <td>0</td>\n",
       "      <td>1</td>\n",
       "      <td>2013-01-04</td>\n",
       "      <td>39</td>\n",
       "      <td>187</td>\n",
       "      <td>...</td>\n",
       "      <td>2</td>\n",
       "      <td>6</td>\n",
       "      <td>5</td>\n",
       "      <td>0</td>\n",
       "      <td>0</td>\n",
       "      <td>0</td>\n",
       "      <td>0</td>\n",
       "      <td>0</td>\n",
       "      <td>0</td>\n",
       "      <td>0</td>\n",
       "    </tr>\n",
       "    <tr>\n",
       "      <th>1382</th>\n",
       "      <td>2902</td>\n",
       "      <td>1958</td>\n",
       "      <td>Graduation</td>\n",
       "      <td>Together</td>\n",
       "      <td>NaN</td>\n",
       "      <td>1</td>\n",
       "      <td>1</td>\n",
       "      <td>2012-03-09</td>\n",
       "      <td>87</td>\n",
       "      <td>19</td>\n",
       "      <td>...</td>\n",
       "      <td>0</td>\n",
       "      <td>3</td>\n",
       "      <td>5</td>\n",
       "      <td>0</td>\n",
       "      <td>0</td>\n",
       "      <td>0</td>\n",
       "      <td>0</td>\n",
       "      <td>0</td>\n",
       "      <td>0</td>\n",
       "      <td>0</td>\n",
       "    </tr>\n",
       "    <tr>\n",
       "      <th>1383</th>\n",
       "      <td>4345</td>\n",
       "      <td>1964</td>\n",
       "      <td>2n Cycle</td>\n",
       "      <td>Single</td>\n",
       "      <td>NaN</td>\n",
       "      <td>1</td>\n",
       "      <td>1</td>\n",
       "      <td>2014-12-01</td>\n",
       "      <td>49</td>\n",
       "      <td>5</td>\n",
       "      <td>...</td>\n",
       "      <td>0</td>\n",
       "      <td>2</td>\n",
       "      <td>7</td>\n",
       "      <td>0</td>\n",
       "      <td>0</td>\n",
       "      <td>0</td>\n",
       "      <td>0</td>\n",
       "      <td>0</td>\n",
       "      <td>0</td>\n",
       "      <td>0</td>\n",
       "    </tr>\n",
       "    <tr>\n",
       "      <th>1386</th>\n",
       "      <td>3769</td>\n",
       "      <td>1972</td>\n",
       "      <td>PhD</td>\n",
       "      <td>Together</td>\n",
       "      <td>NaN</td>\n",
       "      <td>1</td>\n",
       "      <td>0</td>\n",
       "      <td>2014-02-03</td>\n",
       "      <td>17</td>\n",
       "      <td>25</td>\n",
       "      <td>...</td>\n",
       "      <td>0</td>\n",
       "      <td>3</td>\n",
       "      <td>7</td>\n",
       "      <td>0</td>\n",
       "      <td>0</td>\n",
       "      <td>0</td>\n",
       "      <td>0</td>\n",
       "      <td>0</td>\n",
       "      <td>0</td>\n",
       "      <td>0</td>\n",
       "    </tr>\n",
       "    <tr>\n",
       "      <th>2059</th>\n",
       "      <td>7187</td>\n",
       "      <td>1969</td>\n",
       "      <td>Master</td>\n",
       "      <td>Together</td>\n",
       "      <td>NaN</td>\n",
       "      <td>1</td>\n",
       "      <td>1</td>\n",
       "      <td>2013-05-18</td>\n",
       "      <td>52</td>\n",
       "      <td>375</td>\n",
       "      <td>...</td>\n",
       "      <td>10</td>\n",
       "      <td>4</td>\n",
       "      <td>3</td>\n",
       "      <td>0</td>\n",
       "      <td>0</td>\n",
       "      <td>0</td>\n",
       "      <td>0</td>\n",
       "      <td>0</td>\n",
       "      <td>0</td>\n",
       "      <td>0</td>\n",
       "    </tr>\n",
       "    <tr>\n",
       "      <th>2061</th>\n",
       "      <td>1612</td>\n",
       "      <td>1981</td>\n",
       "      <td>PhD</td>\n",
       "      <td>Single</td>\n",
       "      <td>NaN</td>\n",
       "      <td>1</td>\n",
       "      <td>0</td>\n",
       "      <td>2013-05-31</td>\n",
       "      <td>82</td>\n",
       "      <td>23</td>\n",
       "      <td>...</td>\n",
       "      <td>0</td>\n",
       "      <td>3</td>\n",
       "      <td>6</td>\n",
       "      <td>0</td>\n",
       "      <td>0</td>\n",
       "      <td>0</td>\n",
       "      <td>0</td>\n",
       "      <td>0</td>\n",
       "      <td>0</td>\n",
       "      <td>0</td>\n",
       "    </tr>\n",
       "    <tr>\n",
       "      <th>2078</th>\n",
       "      <td>5079</td>\n",
       "      <td>1971</td>\n",
       "      <td>Graduation</td>\n",
       "      <td>Married</td>\n",
       "      <td>NaN</td>\n",
       "      <td>1</td>\n",
       "      <td>1</td>\n",
       "      <td>2013-03-03</td>\n",
       "      <td>82</td>\n",
       "      <td>71</td>\n",
       "      <td>...</td>\n",
       "      <td>1</td>\n",
       "      <td>3</td>\n",
       "      <td>8</td>\n",
       "      <td>0</td>\n",
       "      <td>0</td>\n",
       "      <td>0</td>\n",
       "      <td>0</td>\n",
       "      <td>0</td>\n",
       "      <td>0</td>\n",
       "      <td>0</td>\n",
       "    </tr>\n",
       "    <tr>\n",
       "      <th>2079</th>\n",
       "      <td>10339</td>\n",
       "      <td>1954</td>\n",
       "      <td>Master</td>\n",
       "      <td>Together</td>\n",
       "      <td>NaN</td>\n",
       "      <td>0</td>\n",
       "      <td>1</td>\n",
       "      <td>2013-06-23</td>\n",
       "      <td>83</td>\n",
       "      <td>161</td>\n",
       "      <td>...</td>\n",
       "      <td>1</td>\n",
       "      <td>4</td>\n",
       "      <td>6</td>\n",
       "      <td>0</td>\n",
       "      <td>0</td>\n",
       "      <td>0</td>\n",
       "      <td>0</td>\n",
       "      <td>0</td>\n",
       "      <td>0</td>\n",
       "      <td>0</td>\n",
       "    </tr>\n",
       "    <tr>\n",
       "      <th>2081</th>\n",
       "      <td>3117</td>\n",
       "      <td>1955</td>\n",
       "      <td>Graduation</td>\n",
       "      <td>Single</td>\n",
       "      <td>NaN</td>\n",
       "      <td>0</td>\n",
       "      <td>1</td>\n",
       "      <td>2013-10-18</td>\n",
       "      <td>95</td>\n",
       "      <td>264</td>\n",
       "      <td>...</td>\n",
       "      <td>1</td>\n",
       "      <td>5</td>\n",
       "      <td>7</td>\n",
       "      <td>0</td>\n",
       "      <td>0</td>\n",
       "      <td>0</td>\n",
       "      <td>0</td>\n",
       "      <td>0</td>\n",
       "      <td>0</td>\n",
       "      <td>0</td>\n",
       "    </tr>\n",
       "    <tr>\n",
       "      <th>2084</th>\n",
       "      <td>5250</td>\n",
       "      <td>1943</td>\n",
       "      <td>Master</td>\n",
       "      <td>Widow</td>\n",
       "      <td>NaN</td>\n",
       "      <td>0</td>\n",
       "      <td>0</td>\n",
       "      <td>2013-10-30</td>\n",
       "      <td>75</td>\n",
       "      <td>532</td>\n",
       "      <td>...</td>\n",
       "      <td>5</td>\n",
       "      <td>11</td>\n",
       "      <td>1</td>\n",
       "      <td>0</td>\n",
       "      <td>0</td>\n",
       "      <td>1</td>\n",
       "      <td>0</td>\n",
       "      <td>0</td>\n",
       "      <td>0</td>\n",
       "      <td>1</td>\n",
       "    </tr>\n",
       "    <tr>\n",
       "      <th>2228</th>\n",
       "      <td>8720</td>\n",
       "      <td>1978</td>\n",
       "      <td>2n Cycle</td>\n",
       "      <td>Together</td>\n",
       "      <td>NaN</td>\n",
       "      <td>0</td>\n",
       "      <td>0</td>\n",
       "      <td>2012-12-08</td>\n",
       "      <td>53</td>\n",
       "      <td>32</td>\n",
       "      <td>...</td>\n",
       "      <td>0</td>\n",
       "      <td>1</td>\n",
       "      <td>0</td>\n",
       "      <td>0</td>\n",
       "      <td>1</td>\n",
       "      <td>0</td>\n",
       "      <td>0</td>\n",
       "      <td>0</td>\n",
       "      <td>0</td>\n",
       "      <td>0</td>\n",
       "    </tr>\n",
       "  </tbody>\n",
       "</table>\n",
       "<p>24 rows × 27 columns</p>\n",
       "</div>"
      ],
      "text/plain": [
       "         ID  Year_Birth   Education Marital_Status  Income  Kidhome  Teenhome  \\\n",
       "10     1994        1983  Graduation        Married     NaN        1         0   \n",
       "27     5255        1986  Graduation         Single     NaN        1         0   \n",
       "43     7281        1959         PhD         Single     NaN        0         0   \n",
       "48     7244        1951  Graduation         Single     NaN        2         1   \n",
       "58     8557        1982  Graduation         Single     NaN        1         0   \n",
       "71    10629        1973    2n Cycle        Married     NaN        1         0   \n",
       "90     8996        1957         PhD        Married     NaN        2         1   \n",
       "91     9235        1957  Graduation         Single     NaN        1         1   \n",
       "92     5798        1973      Master       Together     NaN        0         0   \n",
       "128    8268        1961         PhD        Married     NaN        0         1   \n",
       "133    1295        1963  Graduation        Married     NaN        0         1   \n",
       "312    2437        1989  Graduation        Married     NaN        0         0   \n",
       "319    2863        1970  Graduation         Single     NaN        1         2   \n",
       "1379  10475        1970      Master       Together     NaN        0         1   \n",
       "1382   2902        1958  Graduation       Together     NaN        1         1   \n",
       "1383   4345        1964    2n Cycle         Single     NaN        1         1   \n",
       "1386   3769        1972         PhD       Together     NaN        1         0   \n",
       "2059   7187        1969      Master       Together     NaN        1         1   \n",
       "2061   1612        1981         PhD         Single     NaN        1         0   \n",
       "2078   5079        1971  Graduation        Married     NaN        1         1   \n",
       "2079  10339        1954      Master       Together     NaN        0         1   \n",
       "2081   3117        1955  Graduation         Single     NaN        0         1   \n",
       "2084   5250        1943      Master          Widow     NaN        0         0   \n",
       "2228   8720        1978    2n Cycle       Together     NaN        0         0   \n",
       "\n",
       "     Dt_Customer  Recency  MntWines  ...  NumCatalogPurchases  \\\n",
       "10    2013-11-15       11         5  ...                    0   \n",
       "27    2013-02-20       19         5  ...                    0   \n",
       "43    2013-05-11       80        81  ...                    3   \n",
       "48    2014-01-01       96        48  ...                    1   \n",
       "58    2013-06-17       57        11  ...                    0   \n",
       "71    2012-09-14       25        25  ...                    0   \n",
       "90    2012-11-19        4       230  ...                    2   \n",
       "91    2014-05-27       45         7  ...                    0   \n",
       "92    2013-11-23       87       445  ...                    4   \n",
       "128   2013-11-07       23       352  ...                    1   \n",
       "133   2013-11-08       96       231  ...                    5   \n",
       "312   2013-03-06       69       861  ...                    5   \n",
       "319   2013-08-23       67       738  ...                    3   \n",
       "1379  2013-01-04       39       187  ...                    2   \n",
       "1382  2012-03-09       87        19  ...                    0   \n",
       "1383  2014-12-01       49         5  ...                    0   \n",
       "1386  2014-02-03       17        25  ...                    0   \n",
       "2059  2013-05-18       52       375  ...                   10   \n",
       "2061  2013-05-31       82        23  ...                    0   \n",
       "2078  2013-03-03       82        71  ...                    1   \n",
       "2079  2013-06-23       83       161  ...                    1   \n",
       "2081  2013-10-18       95       264  ...                    1   \n",
       "2084  2013-10-30       75       532  ...                    5   \n",
       "2228  2012-12-08       53        32  ...                    0   \n",
       "\n",
       "      NumStorePurchases  NumWebVisitsMonth  AcceptedCmp3  AcceptedCmp4  \\\n",
       "10                    2                  7             0             0   \n",
       "27                    0                  1             0             0   \n",
       "43                    4                  2             0             0   \n",
       "48                    4                  6             0             0   \n",
       "58                    3                  6             0             0   \n",
       "71                    3                  8             0             0   \n",
       "90                    8                  9             0             0   \n",
       "91                    2                  7             0             0   \n",
       "92                    8                  1             0             0   \n",
       "128                   7                  6             0             0   \n",
       "133                   7                  4             0             0   \n",
       "312                  12                  3             0             1   \n",
       "319                  10                  7             0             1   \n",
       "1379                  6                  5             0             0   \n",
       "1382                  3                  5             0             0   \n",
       "1383                  2                  7             0             0   \n",
       "1386                  3                  7             0             0   \n",
       "2059                  4                  3             0             0   \n",
       "2061                  3                  6             0             0   \n",
       "2078                  3                  8             0             0   \n",
       "2079                  4                  6             0             0   \n",
       "2081                  5                  7             0             0   \n",
       "2084                 11                  1             0             0   \n",
       "2228                  1                  0             0             1   \n",
       "\n",
       "      AcceptedCmp5  AcceptedCmp1  AcceptedCmp2  Complain  Response  \n",
       "10               0             0             0         0         0  \n",
       "27               0             0             0         0         0  \n",
       "43               0             0             0         0         0  \n",
       "48               0             0             0         0         0  \n",
       "58               0             0             0         0         0  \n",
       "71               0             0             0         0         0  \n",
       "90               0             0             0         0         0  \n",
       "91               0             0             0         0         0  \n",
       "92               0             0             0         0         0  \n",
       "128              0             0             0         0         0  \n",
       "133              0             0             0         0         0  \n",
       "312              0             1             0         0         0  \n",
       "319              0             1             0         0         0  \n",
       "1379             0             0             0         0         0  \n",
       "1382             0             0             0         0         0  \n",
       "1383             0             0             0         0         0  \n",
       "1386             0             0             0         0         0  \n",
       "2059             0             0             0         0         0  \n",
       "2061             0             0             0         0         0  \n",
       "2078             0             0             0         0         0  \n",
       "2079             0             0             0         0         0  \n",
       "2081             0             0             0         0         0  \n",
       "2084             1             0             0         0         1  \n",
       "2228             0             0             0         0         0  \n",
       "\n",
       "[24 rows x 27 columns]"
      ]
     },
     "execution_count": 10,
     "metadata": {},
     "output_type": "execute_result"
    }
   ],
   "source": [
    "#menemukan Data dengan terdapat nilai kosong\n",
    "def nullrow(x): \n",
    "    return x[x.isnull().any(axis=1)]\n",
    "nullrow(df)"
   ]
  },
  {
   "cell_type": "markdown",
   "id": "e35933b8",
   "metadata": {},
   "source": [
    "Setelah melihat data yang mengandung NaN, data ini masih layak digunakan, sehingga diputuskan akan dilakukan imputation dengan mean berdasarkan rata-rata income dengan status edukasi yang sama (ini berdasarkan asumsi bahwa status pendidikan yang sama biasanya memiliki income yang tidak jauh berbeda). Akan tetapi terlebih dahulu akan dicek nilai unik apa saja yang ada pada kolom 'Education'\n",
    "\n",
    "**Mencari Nilai Unik dari Kolom Education**"
   ]
  },
  {
   "cell_type": "code",
   "execution_count": 11,
   "id": "77413695",
   "metadata": {},
   "outputs": [
    {
     "data": {
      "text/plain": [
       "array(['Graduation', 'PhD', 'Master', 'Basic', '2n Cycle'], dtype=object)"
      ]
     },
     "execution_count": 11,
     "metadata": {},
     "output_type": "execute_result"
    }
   ],
   "source": [
    "#Mencari Nilai Unik dari Kolom Education\n",
    "df['Education'].unique()"
   ]
  },
  {
   "cell_type": "markdown",
   "id": "27aa4449",
   "metadata": {},
   "source": [
    "**KETERANGAN**\n",
    "1. *Graduation*: Ini merujuk pada tingkat pendidikan sarjana atau gelar kesarjanaan. Seseorang yang telah menyelesaikan program sarjana akan memiliki status pendidikan ini.\n",
    "\n",
    "2. *PhD (Doctor of Philosophy)*: Ini adalah tingkat pendidikan tertinggi yang dapat ditempuh di banyak negara. Gelar PhD umumnya diberikan setelah menyelesaikan penelitian tingkat tinggi dan menulis disertasi.\n",
    "\n",
    "3. *Master*: Ini merujuk pada tingkat pendidikan magister atau gelar master. Seseorang yang telah menyelesaikan program master akan memiliki status pendidikan ini.\n",
    "\n",
    "4. *Basic*: Status pendidikan ini mungkin merujuk pada tingkat pendidikan dasar atau umumnya diberikan kepada seseorang yang belum menyelesaikan pendidikan tinggi.\n",
    "\n",
    "5. *2n Cycle*: Mungkin merujuk pada tingkat pendidikan yang melibatkan program studi lanjutan setelah menyelesaikan gelar sarjana. Dalam beberapa sistem pendidikan Eropa, ini bisa mengacu pada gelar lanjutan setelah sarjana.\n",
    "\n",
    "\n",
    "**Kesimpulan**: Tidak ada masalah dengan kolom 'Education' sehingga imputation dapat dilakukan"
   ]
  },
  {
   "cell_type": "markdown",
   "id": "8a83a855",
   "metadata": {},
   "source": [
    "**Imputation**"
   ]
  },
  {
   "cell_type": "code",
   "execution_count": 12,
   "id": "cdb9880a",
   "metadata": {},
   "outputs": [],
   "source": [
    "# Mencari rata-rata pendapatan dengan edukasi yang sama\n",
    "unique_means = df.groupby(['Education'])[\"Income\"].transform('mean')\n",
    "# Mengisi nilai yang kosong pada kolom 'Income' dengan rata-rata income yang memiliki status edukasi yang sama\n",
    "df[\"Income\"].fillna(unique_means, inplace=True)\n",
    "df[\"Income\"]=round(df['Income']).astype(int)"
   ]
  },
  {
   "cell_type": "markdown",
   "id": "91a4b50a",
   "metadata": {},
   "source": [
    "**Feature Engineering: 'Age'**\n",
    "\n",
    "Pada langkah selanjutnya akan dibuat fitur kolom baru yang merupakan kolom 'Age' yaitu umur seseorang menjadi costumer untuk pertama kalinya, karena diasumsikan lebih informatif dibanding kolom 'Year_Birth'"
   ]
  },
  {
   "cell_type": "code",
   "execution_count": 13,
   "id": "34cdefbe",
   "metadata": {},
   "outputs": [
    {
     "name": "stderr",
     "output_type": "stream",
     "text": [
      "C:\\Users\\giova\\AppData\\Local\\Temp/ipykernel_12940/1631029129.py:2: FutureWarning: Treating datetime data as categorical rather than numeric in `.describe` is deprecated and will be removed in a future version of pandas. Specify `datetime_is_numeric=True` to silence this warning and adopt the future behavior now.\n",
      "  df['Dt_Customer'].describe()\n"
     ]
    },
    {
     "data": {
      "text/plain": [
       "count                    2240\n",
       "unique                    663\n",
       "top       2012-08-31 00:00:00\n",
       "freq                       12\n",
       "first     2012-01-08 00:00:00\n",
       "last      2014-12-06 00:00:00\n",
       "Name: Dt_Customer, dtype: object"
      ]
     },
     "execution_count": 13,
     "metadata": {},
     "output_type": "execute_result"
    }
   ],
   "source": [
    "#Cek kolom Dt_Customer\n",
    "df['Dt_Customer'].describe()"
   ]
  },
  {
   "cell_type": "code",
   "execution_count": 14,
   "id": "911a030f",
   "metadata": {},
   "outputs": [],
   "source": [
    "#Feature Enginering (membuat kolom baru Age)\n",
    "df['Dt_Customer'] = pd.to_datetime(df['Dt_Customer'])\n",
    "df['Age']=(df['Dt_Customer'].dt.year- df['Year_Birth'])"
   ]
  },
  {
   "cell_type": "code",
   "execution_count": 15,
   "id": "57312dad",
   "metadata": {},
   "outputs": [
    {
     "data": {
      "text/plain": [
       "count    2240.000000\n",
       "mean       44.222321\n",
       "std        12.022855\n",
       "min        16.000000\n",
       "25%        36.000000\n",
       "50%        43.000000\n",
       "75%        54.000000\n",
       "max       121.000000\n",
       "Name: Age, dtype: float64"
      ]
     },
     "execution_count": 15,
     "metadata": {},
     "output_type": "execute_result"
    }
   ],
   "source": [
    "#Cek kolom Age\n",
    "df['Age'].describe()"
   ]
  },
  {
   "cell_type": "markdown",
   "id": "4f2c8c93",
   "metadata": {},
   "source": [
    "Perhatikan bahwa umur maksimal yang didapat diatas rata-rata umur hidup manusia, kemungkinan terdapat data outlier di beberapa feature ('Age', 'Recency', 'Income'), maka kita akan coba melihat sebaran outlier dan menghilangkannya"
   ]
  },
  {
   "cell_type": "markdown",
   "id": "eae0b5ee",
   "metadata": {},
   "source": [
    "**Cek Outlier**"
   ]
  },
  {
   "cell_type": "code",
   "execution_count": 16,
   "id": "3e36e12d",
   "metadata": {},
   "outputs": [
    {
     "data": {
      "image/png": "[encoded data removed]",
      "text/plain": [
       "<Figure size 576x360 with 1 Axes>"
      ]
     },
     "metadata": {
      "needs_background": "light"
     },
     "output_type": "display_data"
    },
    {
     "data": {
      "image/png": "[encoded data removed]",
      "text/plain": [
       "<Figure size 576x360 with 1 Axes>"
      ]
     },
     "metadata": {
      "needs_background": "light"
     },
     "output_type": "display_data"
    },
    {
     "data": {
      "image/png": "[encoded data removed]",
      "text/plain": [
       "<Figure size 576x360 with 1 Axes>"
      ]
     },
     "metadata": {
      "needs_background": "light"
     },
     "output_type": "display_data"
    }
   ],
   "source": [
    "# Cek Outlier\n",
    "for i, feature in enumerate(['Age', 'Recency', 'Income']):\n",
    "    plt.figure(figsize=(8, 5))\n",
    "    sns.boxplot(x=df[feature])\n",
    "    plt.title(f'Boxplot for {feature}')\n",
    "    plt.show()"
   ]
  },
  {
   "cell_type": "markdown",
   "id": "b9e0a0f0",
   "metadata": {},
   "source": [
    "Dari boxplot, diketahui hanya 'Age' dan 'Income' yang perlu diremove outliernya"
   ]
  },
  {
   "cell_type": "markdown",
   "id": "2ef32f86",
   "metadata": {},
   "source": [
    "**Remove Outlier**"
   ]
  },
  {
   "cell_type": "code",
   "execution_count": 17,
   "id": "b1952477",
   "metadata": {},
   "outputs": [],
   "source": [
    "# Hapus Outlier\n",
    "for feature in ['Age', 'Income']:\n",
    "    # Hitung IQR\n",
    "    Q1 = df[feature].quantile(0.25)\n",
    "    Q3 = df[feature].quantile(0.75)\n",
    "    IQR = Q3 - Q1\n",
    "\n",
    "    # Tentukan batas atas dan bawah untuk outlier\n",
    "    lower_bound = Q1 - 1.5 * IQR\n",
    "    upper_bound = Q3 + 1.5 * IQR\n",
    "\n",
    "    # Hapus outlier\n",
    "    df = df[(df[feature] >= lower_bound) & (df[feature] <= upper_bound)]\n"
   ]
  },
  {
   "cell_type": "markdown",
   "id": "06e453d0",
   "metadata": {},
   "source": [
    "**Feature Engineering: 'Age_Labels'**\n",
    "\n",
    "Selanjutnya akan dikelompokan customer berdasarkan umur dengan menggunakan refernsi ini:\n",
    "https://gaya.tempo.co/read/1724197/kategori-umur-balita-remaja-dan-dewasa-menurut-kemenkes-jangan-salah"
   ]
  },
  {
   "cell_type": "code",
   "execution_count": 18,
   "id": "2cf5666e",
   "metadata": {},
   "outputs": [],
   "source": [
    "# Rentang usia untuk remaja, dewasa, pra lanjut usia, dan lanjut usia\n",
    "age_boundaries = [0, 11, 19, 44, 59, float('inf')]  \n",
    "\n",
    "# Tentukan label kategori usia\n",
    "age_labels = ['Child','Teenagers', 'Adult', 'Pre-Senior', 'Senior']\n",
    "\n",
    "#melakukan pengelompokan berdasarkan umur\n",
    "df['Age_Labels'] = pd.cut(df['Age'], bins=age_boundaries, labels=age_labels, right=False)"
   ]
  },
  {
   "cell_type": "code",
   "execution_count": 19,
   "id": "7cb4b754",
   "metadata": {},
   "outputs": [
    {
     "data": {
      "text/plain": [
       "['Pre-Senior', 'Senior', 'Adult', 'Teenagers']\n",
       "Categories (5, object): ['Child' < 'Teenagers' < 'Adult' < 'Pre-Senior' < 'Senior']"
      ]
     },
     "execution_count": 19,
     "metadata": {},
     "output_type": "execute_result"
    }
   ],
   "source": [
    "#Melihat kategori umur apa saja yang ada pada data 'Age_Labels'\n",
    "df['Age_Labels'].unique()"
   ]
  },
  {
   "cell_type": "markdown",
   "id": "74947339",
   "metadata": {},
   "source": [
    "**Mencari Nilai Unik dari Kolom 'Marital_Status'** \n",
    "\n",
    "Selanjutnya kita akan mengecek kolom 'Marital_Status'"
   ]
  },
  {
   "cell_type": "code",
   "execution_count": 20,
   "id": "b17a2076",
   "metadata": {},
   "outputs": [
    {
     "data": {
      "text/plain": [
       "array(['Single', 'Together', 'Married', 'Divorced', 'Widow', 'Alone',\n",
       "       'Absurd', 'YOLO'], dtype=object)"
      ]
     },
     "execution_count": 20,
     "metadata": {},
     "output_type": "execute_result"
    }
   ],
   "source": [
    "df['Marital_Status'].unique()"
   ]
  },
  {
   "cell_type": "markdown",
   "id": "949d8c1b",
   "metadata": {},
   "source": [
    "**Mengganti Data 'Marital_Status' yang Tidak Relevan**\n",
    "\n",
    "Di Indonesia tidak mengenal status \"Alone\", \"Absurd\", \"Together\" dan \"YOLO\" yang diasumsikan sama seperti \"Single\", kita akan merapikan data tersebut menjadi status \"Single\""
   ]
  },
  {
   "cell_type": "code",
   "execution_count": 21,
   "id": "a9215b7a",
   "metadata": {},
   "outputs": [
    {
     "name": "stderr",
     "output_type": "stream",
     "text": [
      "C:\\Users\\giova\\anaconda3\\lib\\site-packages\\pandas\\core\\indexing.py:1732: SettingWithCopyWarning: \n",
      "A value is trying to be set on a copy of a slice from a DataFrame\n",
      "\n",
      "See the caveats in the documentation: https://pandas.pydata.org/pandas-docs/stable/user_guide/indexing.html#returning-a-view-versus-a-copy\n",
      "  self._setitem_single_block(indexer, value, name)\n"
     ]
    }
   ],
   "source": [
    "#mengganti status \"Alone\", \"Absurd\", \"Together\" dan \"YOLO\" menjadi \"Single\"\n",
    "def replace_status(status):\n",
    "    # Daftar kata yang akan diganti\n",
    "    change = [\"Alone\", \"Absurd\", \"Together\", \"YOLO\"]\n",
    "\n",
    "    # Mengganti setiap kata dalam kolom dengan \"Single\"\n",
    "    status.loc[status.isin(change)] = \"Single\"\n",
    "\n",
    "replace_status(df['Marital_Status'])"
   ]
  },
  {
   "cell_type": "markdown",
   "id": "4828ebeb",
   "metadata": {},
   "source": [
    "**Feature Engineering: 'Child_Status'**\n",
    "\n",
    "Perhatikan bahwa terdapat kolom Kidhome dan Teenhome yang menunjukan bahwa customer memiliki anak / tidak, jadi kita akan buat kolom 'Child_Status' yang menunjukan apakah memiliki anak / tidak"
   ]
  },
  {
   "cell_type": "code",
   "execution_count": 22,
   "id": "12a34910",
   "metadata": {},
   "outputs": [],
   "source": [
    "#Membuat kolom baru yang menginformasikan apakah pelanggan memiliki anak / tidak\n",
    "df['Child_Status'] = np.where(df['Kidhome']+df['Teenhome'] == 0, 'Not Have Child', 'Have Child')"
   ]
  },
  {
   "cell_type": "markdown",
   "id": "54698d31",
   "metadata": {},
   "source": [
    "**Feature Engineering: 'Active_Cust'**\n",
    "\n",
    "Pada kolom ini pelanggan dikatakan aktif jika terakhir kali maksimal 60 hari melakukan pembelian, selebihnya dikatakan pasif"
   ]
  },
  {
   "cell_type": "code",
   "execution_count": 23,
   "id": "39dc2194",
   "metadata": {},
   "outputs": [
    {
     "data": {
      "text/html": [
       "<div>\n",
       "<style scoped>\n",
       "    .dataframe tbody tr th:only-of-type {\n",
       "        vertical-align: middle;\n",
       "    }\n",
       "\n",
       "    .dataframe tbody tr th {\n",
       "        vertical-align: top;\n",
       "    }\n",
       "\n",
       "    .dataframe thead th {\n",
       "        text-align: right;\n",
       "    }\n",
       "</style>\n",
       "<table border=\"1\" class=\"dataframe\">\n",
       "  <thead>\n",
       "    <tr style=\"text-align: right;\">\n",
       "      <th></th>\n",
       "      <th>ID</th>\n",
       "      <th>Year_Birth</th>\n",
       "      <th>Education</th>\n",
       "      <th>Marital_Status</th>\n",
       "      <th>Income</th>\n",
       "      <th>Kidhome</th>\n",
       "      <th>Teenhome</th>\n",
       "      <th>Dt_Customer</th>\n",
       "      <th>Recency</th>\n",
       "      <th>MntWines</th>\n",
       "      <th>...</th>\n",
       "      <th>AcceptedCmp4</th>\n",
       "      <th>AcceptedCmp5</th>\n",
       "      <th>AcceptedCmp1</th>\n",
       "      <th>AcceptedCmp2</th>\n",
       "      <th>Complain</th>\n",
       "      <th>Response</th>\n",
       "      <th>Age</th>\n",
       "      <th>Age_Labels</th>\n",
       "      <th>Child_Status</th>\n",
       "      <th>Active_Cust</th>\n",
       "    </tr>\n",
       "  </thead>\n",
       "  <tbody>\n",
       "    <tr>\n",
       "      <th>0</th>\n",
       "      <td>5524</td>\n",
       "      <td>1957</td>\n",
       "      <td>Graduation</td>\n",
       "      <td>Single</td>\n",
       "      <td>58138</td>\n",
       "      <td>0</td>\n",
       "      <td>0</td>\n",
       "      <td>2012-04-09</td>\n",
       "      <td>58</td>\n",
       "      <td>635</td>\n",
       "      <td>...</td>\n",
       "      <td>0</td>\n",
       "      <td>0</td>\n",
       "      <td>0</td>\n",
       "      <td>0</td>\n",
       "      <td>0</td>\n",
       "      <td>1</td>\n",
       "      <td>55</td>\n",
       "      <td>Pre-Senior</td>\n",
       "      <td>Not Have Child</td>\n",
       "      <td>Active</td>\n",
       "    </tr>\n",
       "    <tr>\n",
       "      <th>1</th>\n",
       "      <td>2174</td>\n",
       "      <td>1954</td>\n",
       "      <td>Graduation</td>\n",
       "      <td>Single</td>\n",
       "      <td>46344</td>\n",
       "      <td>1</td>\n",
       "      <td>1</td>\n",
       "      <td>2014-08-03</td>\n",
       "      <td>38</td>\n",
       "      <td>11</td>\n",
       "      <td>...</td>\n",
       "      <td>0</td>\n",
       "      <td>0</td>\n",
       "      <td>0</td>\n",
       "      <td>0</td>\n",
       "      <td>0</td>\n",
       "      <td>0</td>\n",
       "      <td>60</td>\n",
       "      <td>Senior</td>\n",
       "      <td>Have Child</td>\n",
       "      <td>Active</td>\n",
       "    </tr>\n",
       "    <tr>\n",
       "      <th>2</th>\n",
       "      <td>4141</td>\n",
       "      <td>1965</td>\n",
       "      <td>Graduation</td>\n",
       "      <td>Single</td>\n",
       "      <td>71613</td>\n",
       "      <td>0</td>\n",
       "      <td>0</td>\n",
       "      <td>2013-08-21</td>\n",
       "      <td>26</td>\n",
       "      <td>426</td>\n",
       "      <td>...</td>\n",
       "      <td>0</td>\n",
       "      <td>0</td>\n",
       "      <td>0</td>\n",
       "      <td>0</td>\n",
       "      <td>0</td>\n",
       "      <td>0</td>\n",
       "      <td>48</td>\n",
       "      <td>Pre-Senior</td>\n",
       "      <td>Not Have Child</td>\n",
       "      <td>Active</td>\n",
       "    </tr>\n",
       "    <tr>\n",
       "      <th>3</th>\n",
       "      <td>6182</td>\n",
       "      <td>1984</td>\n",
       "      <td>Graduation</td>\n",
       "      <td>Single</td>\n",
       "      <td>26646</td>\n",
       "      <td>1</td>\n",
       "      <td>0</td>\n",
       "      <td>2014-10-02</td>\n",
       "      <td>26</td>\n",
       "      <td>11</td>\n",
       "      <td>...</td>\n",
       "      <td>0</td>\n",
       "      <td>0</td>\n",
       "      <td>0</td>\n",
       "      <td>0</td>\n",
       "      <td>0</td>\n",
       "      <td>0</td>\n",
       "      <td>30</td>\n",
       "      <td>Adult</td>\n",
       "      <td>Have Child</td>\n",
       "      <td>Active</td>\n",
       "    </tr>\n",
       "    <tr>\n",
       "      <th>4</th>\n",
       "      <td>5324</td>\n",
       "      <td>1981</td>\n",
       "      <td>PhD</td>\n",
       "      <td>Married</td>\n",
       "      <td>58293</td>\n",
       "      <td>1</td>\n",
       "      <td>0</td>\n",
       "      <td>2014-01-19</td>\n",
       "      <td>94</td>\n",
       "      <td>173</td>\n",
       "      <td>...</td>\n",
       "      <td>0</td>\n",
       "      <td>0</td>\n",
       "      <td>0</td>\n",
       "      <td>0</td>\n",
       "      <td>0</td>\n",
       "      <td>0</td>\n",
       "      <td>33</td>\n",
       "      <td>Adult</td>\n",
       "      <td>Have Child</td>\n",
       "      <td>Passive</td>\n",
       "    </tr>\n",
       "  </tbody>\n",
       "</table>\n",
       "<p>5 rows × 31 columns</p>\n",
       "</div>"
      ],
      "text/plain": [
       "     ID  Year_Birth   Education Marital_Status  Income  Kidhome  Teenhome  \\\n",
       "0  5524        1957  Graduation         Single   58138        0         0   \n",
       "1  2174        1954  Graduation         Single   46344        1         1   \n",
       "2  4141        1965  Graduation         Single   71613        0         0   \n",
       "3  6182        1984  Graduation         Single   26646        1         0   \n",
       "4  5324        1981         PhD        Married   58293        1         0   \n",
       "\n",
       "  Dt_Customer  Recency  MntWines  ...  AcceptedCmp4  AcceptedCmp5  \\\n",
       "0  2012-04-09       58       635  ...             0             0   \n",
       "1  2014-08-03       38        11  ...             0             0   \n",
       "2  2013-08-21       26       426  ...             0             0   \n",
       "3  2014-10-02       26        11  ...             0             0   \n",
       "4  2014-01-19       94       173  ...             0             0   \n",
       "\n",
       "   AcceptedCmp1  AcceptedCmp2  Complain  Response  Age  Age_Labels  \\\n",
       "0             0             0         0         1   55  Pre-Senior   \n",
       "1             0             0         0         0   60      Senior   \n",
       "2             0             0         0         0   48  Pre-Senior   \n",
       "3             0             0         0         0   30       Adult   \n",
       "4             0             0         0         0   33       Adult   \n",
       "\n",
       "     Child_Status  Active_Cust  \n",
       "0  Not Have Child       Active  \n",
       "1      Have Child       Active  \n",
       "2  Not Have Child       Active  \n",
       "3      Have Child       Active  \n",
       "4      Have Child      Passive  \n",
       "\n",
       "[5 rows x 31 columns]"
      ]
     },
     "execution_count": 23,
     "metadata": {},
     "output_type": "execute_result"
    }
   ],
   "source": [
    "df['Active_Cust'] = np.where(df['Recency']<= 60, 'Active', 'Passive')\n",
    "df.head()"
   ]
  },
  {
   "cell_type": "markdown",
   "id": "4d60dc32",
   "metadata": {},
   "source": [
    "**Drop Kolom**\n",
    "\n",
    "Perhatikan bahwa kolom kolom seperti Kidhome, Teenhome, Year_Birth, Dt_Customer sudah dibuat menjadi feature baru, sehingga kita bisa drop semua kolom tersebut"
   ]
  },
  {
   "cell_type": "code",
   "execution_count": 24,
   "id": "22373fc8",
   "metadata": {},
   "outputs": [],
   "source": [
    "df = df.drop(['Kidhome', 'Teenhome', 'Year_Birth', 'Dt_Customer'], axis=1)"
   ]
  },
  {
   "cell_type": "markdown",
   "id": "de587eac",
   "metadata": {},
   "source": [
    "## Cek And Save Clean Data"
   ]
  },
  {
   "cell_type": "markdown",
   "id": "9a7bd3ff",
   "metadata": {},
   "source": [
    "**Cek Clean Data**"
   ]
  },
  {
   "cell_type": "code",
   "execution_count": 25,
   "id": "31f28d0d",
   "metadata": {},
   "outputs": [
    {
     "data": {
      "text/html": [
       "<div>\n",
       "<style scoped>\n",
       "    .dataframe tbody tr th:only-of-type {\n",
       "        vertical-align: middle;\n",
       "    }\n",
       "\n",
       "    .dataframe tbody tr th {\n",
       "        vertical-align: top;\n",
       "    }\n",
       "\n",
       "    .dataframe thead th {\n",
       "        text-align: right;\n",
       "    }\n",
       "</style>\n",
       "<table border=\"1\" class=\"dataframe\">\n",
       "  <thead>\n",
       "    <tr style=\"text-align: right;\">\n",
       "      <th></th>\n",
       "      <th>ID</th>\n",
       "      <th>Education</th>\n",
       "      <th>Marital_Status</th>\n",
       "      <th>Income</th>\n",
       "      <th>Recency</th>\n",
       "      <th>MntWines</th>\n",
       "      <th>MntFruits</th>\n",
       "      <th>MntMeatProducts</th>\n",
       "      <th>MntFishProducts</th>\n",
       "      <th>MntSweetProducts</th>\n",
       "      <th>...</th>\n",
       "      <th>AcceptedCmp4</th>\n",
       "      <th>AcceptedCmp5</th>\n",
       "      <th>AcceptedCmp1</th>\n",
       "      <th>AcceptedCmp2</th>\n",
       "      <th>Complain</th>\n",
       "      <th>Response</th>\n",
       "      <th>Age</th>\n",
       "      <th>Age_Labels</th>\n",
       "      <th>Child_Status</th>\n",
       "      <th>Active_Cust</th>\n",
       "    </tr>\n",
       "  </thead>\n",
       "  <tbody>\n",
       "    <tr>\n",
       "      <th>0</th>\n",
       "      <td>5524</td>\n",
       "      <td>Graduation</td>\n",
       "      <td>Single</td>\n",
       "      <td>58138</td>\n",
       "      <td>58</td>\n",
       "      <td>635</td>\n",
       "      <td>88</td>\n",
       "      <td>546</td>\n",
       "      <td>172</td>\n",
       "      <td>88</td>\n",
       "      <td>...</td>\n",
       "      <td>0</td>\n",
       "      <td>0</td>\n",
       "      <td>0</td>\n",
       "      <td>0</td>\n",
       "      <td>0</td>\n",
       "      <td>1</td>\n",
       "      <td>55</td>\n",
       "      <td>Pre-Senior</td>\n",
       "      <td>Not Have Child</td>\n",
       "      <td>Active</td>\n",
       "    </tr>\n",
       "    <tr>\n",
       "      <th>1</th>\n",
       "      <td>2174</td>\n",
       "      <td>Graduation</td>\n",
       "      <td>Single</td>\n",
       "      <td>46344</td>\n",
       "      <td>38</td>\n",
       "      <td>11</td>\n",
       "      <td>1</td>\n",
       "      <td>6</td>\n",
       "      <td>2</td>\n",
       "      <td>1</td>\n",
       "      <td>...</td>\n",
       "      <td>0</td>\n",
       "      <td>0</td>\n",
       "      <td>0</td>\n",
       "      <td>0</td>\n",
       "      <td>0</td>\n",
       "      <td>0</td>\n",
       "      <td>60</td>\n",
       "      <td>Senior</td>\n",
       "      <td>Have Child</td>\n",
       "      <td>Active</td>\n",
       "    </tr>\n",
       "    <tr>\n",
       "      <th>2</th>\n",
       "      <td>4141</td>\n",
       "      <td>Graduation</td>\n",
       "      <td>Single</td>\n",
       "      <td>71613</td>\n",
       "      <td>26</td>\n",
       "      <td>426</td>\n",
       "      <td>49</td>\n",
       "      <td>127</td>\n",
       "      <td>111</td>\n",
       "      <td>21</td>\n",
       "      <td>...</td>\n",
       "      <td>0</td>\n",
       "      <td>0</td>\n",
       "      <td>0</td>\n",
       "      <td>0</td>\n",
       "      <td>0</td>\n",
       "      <td>0</td>\n",
       "      <td>48</td>\n",
       "      <td>Pre-Senior</td>\n",
       "      <td>Not Have Child</td>\n",
       "      <td>Active</td>\n",
       "    </tr>\n",
       "    <tr>\n",
       "      <th>3</th>\n",
       "      <td>6182</td>\n",
       "      <td>Graduation</td>\n",
       "      <td>Single</td>\n",
       "      <td>26646</td>\n",
       "      <td>26</td>\n",
       "      <td>11</td>\n",
       "      <td>4</td>\n",
       "      <td>20</td>\n",
       "      <td>10</td>\n",
       "      <td>3</td>\n",
       "      <td>...</td>\n",
       "      <td>0</td>\n",
       "      <td>0</td>\n",
       "      <td>0</td>\n",
       "      <td>0</td>\n",
       "      <td>0</td>\n",
       "      <td>0</td>\n",
       "      <td>30</td>\n",
       "      <td>Adult</td>\n",
       "      <td>Have Child</td>\n",
       "      <td>Active</td>\n",
       "    </tr>\n",
       "    <tr>\n",
       "      <th>4</th>\n",
       "      <td>5324</td>\n",
       "      <td>PhD</td>\n",
       "      <td>Married</td>\n",
       "      <td>58293</td>\n",
       "      <td>94</td>\n",
       "      <td>173</td>\n",
       "      <td>43</td>\n",
       "      <td>118</td>\n",
       "      <td>46</td>\n",
       "      <td>27</td>\n",
       "      <td>...</td>\n",
       "      <td>0</td>\n",
       "      <td>0</td>\n",
       "      <td>0</td>\n",
       "      <td>0</td>\n",
       "      <td>0</td>\n",
       "      <td>0</td>\n",
       "      <td>33</td>\n",
       "      <td>Adult</td>\n",
       "      <td>Have Child</td>\n",
       "      <td>Passive</td>\n",
       "    </tr>\n",
       "    <tr>\n",
       "      <th>5</th>\n",
       "      <td>7446</td>\n",
       "      <td>Master</td>\n",
       "      <td>Single</td>\n",
       "      <td>62513</td>\n",
       "      <td>16</td>\n",
       "      <td>520</td>\n",
       "      <td>42</td>\n",
       "      <td>98</td>\n",
       "      <td>0</td>\n",
       "      <td>42</td>\n",
       "      <td>...</td>\n",
       "      <td>0</td>\n",
       "      <td>0</td>\n",
       "      <td>0</td>\n",
       "      <td>0</td>\n",
       "      <td>0</td>\n",
       "      <td>0</td>\n",
       "      <td>46</td>\n",
       "      <td>Pre-Senior</td>\n",
       "      <td>Have Child</td>\n",
       "      <td>Active</td>\n",
       "    </tr>\n",
       "    <tr>\n",
       "      <th>6</th>\n",
       "      <td>965</td>\n",
       "      <td>Graduation</td>\n",
       "      <td>Divorced</td>\n",
       "      <td>55635</td>\n",
       "      <td>34</td>\n",
       "      <td>235</td>\n",
       "      <td>65</td>\n",
       "      <td>164</td>\n",
       "      <td>50</td>\n",
       "      <td>49</td>\n",
       "      <td>...</td>\n",
       "      <td>0</td>\n",
       "      <td>0</td>\n",
       "      <td>0</td>\n",
       "      <td>0</td>\n",
       "      <td>0</td>\n",
       "      <td>0</td>\n",
       "      <td>41</td>\n",
       "      <td>Adult</td>\n",
       "      <td>Have Child</td>\n",
       "      <td>Active</td>\n",
       "    </tr>\n",
       "    <tr>\n",
       "      <th>7</th>\n",
       "      <td>6177</td>\n",
       "      <td>PhD</td>\n",
       "      <td>Married</td>\n",
       "      <td>33454</td>\n",
       "      <td>32</td>\n",
       "      <td>76</td>\n",
       "      <td>10</td>\n",
       "      <td>56</td>\n",
       "      <td>3</td>\n",
       "      <td>1</td>\n",
       "      <td>...</td>\n",
       "      <td>0</td>\n",
       "      <td>0</td>\n",
       "      <td>0</td>\n",
       "      <td>0</td>\n",
       "      <td>0</td>\n",
       "      <td>0</td>\n",
       "      <td>28</td>\n",
       "      <td>Adult</td>\n",
       "      <td>Have Child</td>\n",
       "      <td>Active</td>\n",
       "    </tr>\n",
       "    <tr>\n",
       "      <th>8</th>\n",
       "      <td>4855</td>\n",
       "      <td>PhD</td>\n",
       "      <td>Single</td>\n",
       "      <td>30351</td>\n",
       "      <td>19</td>\n",
       "      <td>14</td>\n",
       "      <td>0</td>\n",
       "      <td>24</td>\n",
       "      <td>3</td>\n",
       "      <td>3</td>\n",
       "      <td>...</td>\n",
       "      <td>0</td>\n",
       "      <td>0</td>\n",
       "      <td>0</td>\n",
       "      <td>0</td>\n",
       "      <td>0</td>\n",
       "      <td>1</td>\n",
       "      <td>39</td>\n",
       "      <td>Adult</td>\n",
       "      <td>Have Child</td>\n",
       "      <td>Active</td>\n",
       "    </tr>\n",
       "    <tr>\n",
       "      <th>9</th>\n",
       "      <td>5899</td>\n",
       "      <td>PhD</td>\n",
       "      <td>Single</td>\n",
       "      <td>5648</td>\n",
       "      <td>68</td>\n",
       "      <td>28</td>\n",
       "      <td>0</td>\n",
       "      <td>6</td>\n",
       "      <td>1</td>\n",
       "      <td>1</td>\n",
       "      <td>...</td>\n",
       "      <td>0</td>\n",
       "      <td>0</td>\n",
       "      <td>0</td>\n",
       "      <td>0</td>\n",
       "      <td>0</td>\n",
       "      <td>0</td>\n",
       "      <td>64</td>\n",
       "      <td>Senior</td>\n",
       "      <td>Have Child</td>\n",
       "      <td>Passive</td>\n",
       "    </tr>\n",
       "  </tbody>\n",
       "</table>\n",
       "<p>10 rows × 27 columns</p>\n",
       "</div>"
      ],
      "text/plain": [
       "     ID   Education Marital_Status  Income  Recency  MntWines  MntFruits  \\\n",
       "0  5524  Graduation         Single   58138       58       635         88   \n",
       "1  2174  Graduation         Single   46344       38        11          1   \n",
       "2  4141  Graduation         Single   71613       26       426         49   \n",
       "3  6182  Graduation         Single   26646       26        11          4   \n",
       "4  5324         PhD        Married   58293       94       173         43   \n",
       "5  7446      Master         Single   62513       16       520         42   \n",
       "6   965  Graduation       Divorced   55635       34       235         65   \n",
       "7  6177         PhD        Married   33454       32        76         10   \n",
       "8  4855         PhD         Single   30351       19        14          0   \n",
       "9  5899         PhD         Single    5648       68        28          0   \n",
       "\n",
       "   MntMeatProducts  MntFishProducts  MntSweetProducts  ...  AcceptedCmp4  \\\n",
       "0              546              172                88  ...             0   \n",
       "1                6                2                 1  ...             0   \n",
       "2              127              111                21  ...             0   \n",
       "3               20               10                 3  ...             0   \n",
       "4              118               46                27  ...             0   \n",
       "5               98                0                42  ...             0   \n",
       "6              164               50                49  ...             0   \n",
       "7               56                3                 1  ...             0   \n",
       "8               24                3                 3  ...             0   \n",
       "9                6                1                 1  ...             0   \n",
       "\n",
       "   AcceptedCmp5  AcceptedCmp1  AcceptedCmp2  Complain  Response  Age  \\\n",
       "0             0             0             0         0         1   55   \n",
       "1             0             0             0         0         0   60   \n",
       "2             0             0             0         0         0   48   \n",
       "3             0             0             0         0         0   30   \n",
       "4             0             0             0         0         0   33   \n",
       "5             0             0             0         0         0   46   \n",
       "6             0             0             0         0         0   41   \n",
       "7             0             0             0         0         0   28   \n",
       "8             0             0             0         0         1   39   \n",
       "9             0             0             0         0         0   64   \n",
       "\n",
       "   Age_Labels    Child_Status  Active_Cust  \n",
       "0  Pre-Senior  Not Have Child       Active  \n",
       "1      Senior      Have Child       Active  \n",
       "2  Pre-Senior  Not Have Child       Active  \n",
       "3       Adult      Have Child       Active  \n",
       "4       Adult      Have Child      Passive  \n",
       "5  Pre-Senior      Have Child       Active  \n",
       "6       Adult      Have Child       Active  \n",
       "7       Adult      Have Child       Active  \n",
       "8       Adult      Have Child       Active  \n",
       "9      Senior      Have Child      Passive  \n",
       "\n",
       "[10 rows x 27 columns]"
      ]
     },
     "execution_count": 25,
     "metadata": {},
     "output_type": "execute_result"
    }
   ],
   "source": [
    "df.head(10)"
   ]
  },
  {
   "cell_type": "markdown",
   "id": "bef7ad31",
   "metadata": {},
   "source": [
    "**Save Clean Data**"
   ]
  },
  {
   "cell_type": "code",
   "execution_count": 26,
   "id": "21127a83",
   "metadata": {},
   "outputs": [],
   "source": [
    "# Menyimpan DataFrame ke dalam file CSV\n",
    "df.to_csv('~\\Documents\\purwadhika\\CleanData_SupermarketCustomers.csv', index=False)\n",
    "\n",
    "# Menyimpan DataFrame ke dalam file excel\n",
    "df.to_excel('~\\Documents\\purwadhika\\CleanData_SupermarketCustomers.xlsx', index=False)"
   ]
  },
  {
   "cell_type": "markdown",
   "id": "b3cccbac",
   "metadata": {},
   "source": [
    "# Data Analysis"
   ]
  },
  {
   "cell_type": "markdown",
   "id": "939952f1",
   "metadata": {},
   "source": [
    "## Segmentasi Pelanggan"
   ]
  },
  {
   "cell_type": "markdown",
   "id": "247e6e0a",
   "metadata": {},
   "source": [
    "**1. Berapakah jumlah total pelanggan yang tercatat?**"
   ]
  },
  {
   "cell_type": "code",
   "execution_count": 27,
   "id": "f750a91b",
   "metadata": {},
   "outputs": [
    {
     "data": {
      "text/plain": [
       "2229"
      ]
     },
     "execution_count": 27,
     "metadata": {},
     "output_type": "execute_result"
    }
   ],
   "source": [
    "# Menghitung total jumlah pelanggan\n",
    "total = df.shape[0]\n",
    "total"
   ]
  },
  {
   "cell_type": "markdown",
   "id": "68bd59f6",
   "metadata": {},
   "source": [
    "Jadi, total pelanggan yang tercatat adalah sebanyak 2229\n",
    "\n",
    "=========================================="
   ]
  },
  {
   "cell_type": "markdown",
   "id": "69a62473",
   "metadata": {},
   "source": [
    "**2. Bagaimanakah jumlah dan persentase pelanggan setiap kelompok? (Misalnya, kelompok umur, status pernikahan, dll.)**"
   ]
  },
  {
   "cell_type": "code",
   "execution_count": 28,
   "id": "6ccf90d0",
   "metadata": {},
   "outputs": [
    {
     "name": "stdout",
     "output_type": "stream",
     "text": [
      "Jumlah Pelanggan dalam Kelompok Umur:\n",
      "Adult         1147\n",
      "Pre-Senior     762\n",
      "Senior         314\n",
      "Teenagers        6\n",
      "Child            0\n",
      "Name: Age_Labels, dtype: int64\n",
      "\n",
      "Persentase Pelanggan dalam Kelompok Umur:\n",
      "Adult         51.458053\n",
      "Pre-Senior    34.185734\n",
      "Senior        14.087035\n",
      "Teenagers      0.269179\n",
      "Child          0.000000\n",
      "Name: Age_Labels, dtype: float64\n"
     ]
    }
   ],
   "source": [
    "Total_byAge = df['Age_Labels'].value_counts()\n",
    "Perc_byAge = (Total_byAge / len(df)) * 100\n",
    "\n",
    "print(\"Jumlah Pelanggan dalam Kelompok Umur:\")\n",
    "print(Total_byAge)\n",
    "print(\"\\nPersentase Pelanggan dalam Kelompok Umur:\")\n",
    "print(Perc_byAge)"
   ]
  },
  {
   "cell_type": "code",
   "execution_count": 29,
   "id": "b4e53058",
   "metadata": {},
   "outputs": [
    {
     "name": "stdout",
     "output_type": "stream",
     "text": [
      "Jumlah Pelanggan dalam Kelompok Status Pernikahan:\n",
      "Single      1061\n",
      "Married      861\n",
      "Divorced     230\n",
      "Widow         77\n",
      "Name: Marital_Status, dtype: int64\n",
      "\n",
      "Persentase Pelanggan dalam Kelompok Status Pernikahan:\n",
      "Single      47.599821\n",
      "Married     38.627187\n",
      "Divorced    10.318528\n",
      "Widow        3.454464\n",
      "Name: Marital_Status, dtype: float64\n"
     ]
    }
   ],
   "source": [
    "Total_byMarr = df['Marital_Status'].value_counts()\n",
    "Perc_byMarr = (Total_byMarr / len(df)) * 100\n",
    "\n",
    "print(\"Jumlah Pelanggan dalam Kelompok Status Pernikahan:\")\n",
    "print(Total_byMarr)\n",
    "print(\"\\nPersentase Pelanggan dalam Kelompok Status Pernikahan:\")\n",
    "print(Perc_byMarr)"
   ]
  },
  {
   "cell_type": "code",
   "execution_count": 30,
   "id": "92a1213b",
   "metadata": {},
   "outputs": [
    {
     "name": "stdout",
     "output_type": "stream",
     "text": [
      "Jumlah Pelanggan dalam Kelompok Pendidikan:\n",
      "Graduation    1124\n",
      "PhD            481\n",
      "Master         369\n",
      "2n Cycle       201\n",
      "Basic           54\n",
      "Name: Education, dtype: int64\n",
      "\n",
      "Persentase Pelanggan dalam Kelompok Pendidikan:\n",
      "Graduation    50.426200\n",
      "PhD           21.579183\n",
      "Master        16.554509\n",
      "2n Cycle       9.017497\n",
      "Basic          2.422611\n",
      "Name: Education, dtype: float64\n"
     ]
    }
   ],
   "source": [
    "Total_byEdu = df['Education'].value_counts()\n",
    "Perc_byEdu = (Total_byEdu / len(df)) * 100\n",
    "\n",
    "print(\"Jumlah Pelanggan dalam Kelompok Pendidikan:\")\n",
    "print(Total_byEdu)\n",
    "print(\"\\nPersentase Pelanggan dalam Kelompok Pendidikan:\")\n",
    "print(Perc_byEdu)"
   ]
  },
  {
   "cell_type": "code",
   "execution_count": 31,
   "id": "f68f0660",
   "metadata": {},
   "outputs": [
    {
     "name": "stdout",
     "output_type": "stream",
     "text": [
      "Jumlah Pelanggan dalam Kelompok Status Memiliki Anak:\n",
      "Have Child        1596\n",
      "Not Have Child     633\n",
      "Name: Child_Status, dtype: int64\n",
      "\n",
      "Persentase Pelanggan dalam Kelompok Status Memiliki Anak:\n",
      "Have Child        71.601615\n",
      "Not Have Child    28.398385\n",
      "Name: Child_Status, dtype: float64\n"
     ]
    }
   ],
   "source": [
    "Total_byChild = df['Child_Status'].value_counts()\n",
    "Perc_byChild = (Total_byChild / len(df)) * 100\n",
    "\n",
    "print(\"Jumlah Pelanggan dalam Kelompok Status Memiliki Anak:\")\n",
    "print(Total_byChild)\n",
    "print(\"\\nPersentase Pelanggan dalam Kelompok Status Memiliki Anak:\")\n",
    "print(Perc_byChild)"
   ]
  },
  {
   "cell_type": "markdown",
   "id": "291f7096",
   "metadata": {},
   "source": [
    "Jadi, berdasarkan profil yang ada, pelanggan dengan status adult, single, graduation, dan memiliki anak adalah yang tertinggi dalam catatan jumlah dan persentase pelanggan masing masing kelompok. Akan tetapi, pelanggan dengan status child dan teenagers, widow, basic, dan tidak memiliki anak adalah yang terendah dalam catatan jumlah dan persentase pelanggan masing masing kelompok\n",
    "\n",
    "=========================================="
   ]
  },
  {
   "cell_type": "markdown",
   "id": "fa360cbc",
   "metadata": {},
   "source": [
    "**3. Apakah distribusi umur pelanggan berdistribusi normal?**"
   ]
  },
  {
   "cell_type": "code",
   "execution_count": 32,
   "id": "4211a858",
   "metadata": {},
   "outputs": [
    {
     "name": "stderr",
     "output_type": "stream",
     "text": [
      "C:\\Users\\giova\\anaconda3\\lib\\site-packages\\seaborn\\distributions.py:2619: FutureWarning: `distplot` is a deprecated function and will be removed in a future version. Please adapt your code to use either `displot` (a figure-level function with similar flexibility) or `histplot` (an axes-level function for histograms).\n",
      "  warnings.warn(msg, FutureWarning)\n"
     ]
    },
    {
     "data": {
      "text/plain": [
       "<AxesSubplot:xlabel='Age', ylabel='Density'>"
      ]
     },
     "execution_count": 32,
     "metadata": {},
     "output_type": "execute_result"
    },
    {
     "data": {
      "image/png": "[encoded data removed]",
      "text/plain": [
       "<Figure size 576x360 with 1 Axes>"
      ]
     },
     "metadata": {
      "needs_background": "light"
     },
     "output_type": "display_data"
    }
   ],
   "source": [
    "#melihat distribusi data umur\n",
    "plt.figure(figsize=(8,5))\n",
    "sns.distplot(df['Age'])"
   ]
  },
  {
   "cell_type": "markdown",
   "id": "4f782fe7",
   "metadata": {},
   "source": [
    "Secara plot bisa dikatakan distribusi data umur normal, akan tetapi kita akan menguji dengan Kolmogorov-Smirnov"
   ]
  },
  {
   "cell_type": "code",
   "execution_count": 33,
   "id": "a7b436e7",
   "metadata": {},
   "outputs": [
    {
     "name": "stdout",
     "output_type": "stream",
     "text": [
      "Data tidak terdistribusi normal.\n"
     ]
    }
   ],
   "source": [
    "#Melakukan uji normalitas dengan Kolmogorov-Smirnov\n",
    "from scipy.stats import kstest\n",
    "stat, p_value = kstest(df['Age'], 'norm')\n",
    "\n",
    "#Kesimpulan\n",
    "if p_value < 0.05:\n",
    "    print(\"Data tidak terdistribusi normal.\")\n",
    "else:\n",
    "    print(\"Data terdistribusi normal.\")"
   ]
  },
  {
   "cell_type": "markdown",
   "id": "b359b949",
   "metadata": {},
   "source": [
    "=========================================="
   ]
  },
  {
   "cell_type": "markdown",
   "id": "fecd31f5",
   "metadata": {},
   "source": [
    "## Performa Penjualan"
   ]
  },
  {
   "cell_type": "markdown",
   "id": "0c4ea6ff",
   "metadata": {},
   "source": [
    "**1. Berapakah jumlah dan persentase pelanggan yang tergolong aktif / pasif?**"
   ]
  },
  {
   "cell_type": "code",
   "execution_count": 34,
   "id": "cfb61b0f",
   "metadata": {},
   "outputs": [
    {
     "data": {
      "text/plain": [
       "858"
      ]
     },
     "execution_count": 34,
     "metadata": {},
     "output_type": "execute_result"
    }
   ],
   "source": [
    "pasif = df[df['Active_Cust'] == 'Passive']['Active_Cust'].count()\n",
    "pasif"
   ]
  },
  {
   "cell_type": "code",
   "execution_count": 35,
   "id": "2a57900d",
   "metadata": {},
   "outputs": [
    {
     "data": {
      "text/plain": [
       "38.49259757738896"
      ]
     },
     "execution_count": 35,
     "metadata": {},
     "output_type": "execute_result"
    }
   ],
   "source": [
    "perc_pasif=pasif/total*100\n",
    "perc_pasif"
   ]
  },
  {
   "cell_type": "code",
   "execution_count": 36,
   "id": "c5f5756f",
   "metadata": {},
   "outputs": [
    {
     "data": {
      "text/plain": [
       "1371"
      ]
     },
     "execution_count": 36,
     "metadata": {},
     "output_type": "execute_result"
    }
   ],
   "source": [
    "aktif = df[df['Active_Cust'] == 'Active']['Active_Cust'].count()\n",
    "aktif"
   ]
  },
  {
   "cell_type": "code",
   "execution_count": 37,
   "id": "b00c4e78",
   "metadata": {},
   "outputs": [
    {
     "data": {
      "text/plain": [
       "61.50740242261104"
      ]
     },
     "execution_count": 37,
     "metadata": {},
     "output_type": "execute_result"
    }
   ],
   "source": [
    "perc_aktif=100-perc_pasif\n",
    "perc_aktif"
   ]
  },
  {
   "cell_type": "code",
   "execution_count": 38,
   "id": "c2b2c7db",
   "metadata": {},
   "outputs": [
    {
     "data": {
      "image/png": "[encoded data removed]",
      "text/plain": [
       "<Figure size 432x432 with 1 Axes>"
      ]
     },
     "metadata": {},
     "output_type": "display_data"
    }
   ],
   "source": [
    "# Menampilkan diagram pie chart\n",
    "labels = ['Active Customers', 'Passive Customers']\n",
    "sizes = [perc_aktif, perc_pasif]\n",
    "colors = ['lightblue', 'lightcoral']\n",
    "\n",
    "plt.figure(figsize=(6, 6))\n",
    "plt.pie(sizes, labels=labels, colors=colors, autopct='%1.1f%%', startangle=90)\n",
    "plt.title('Persentase Pelanggan Aktif dan Pasif')\n",
    "plt.show()"
   ]
  },
  {
   "cell_type": "markdown",
   "id": "200f2366",
   "metadata": {},
   "source": [
    "Perhatikan bahwa terdapat 861 orang pelanggan dengan persentase 38,5% dari total pelanggan yang tergolong pasif dalam membeli (lebih dari 2 bulan dari terakhir melakukan pembelian)\n",
    "\n",
    "=========================================="
   ]
  },
  {
   "cell_type": "markdown",
   "id": "c522c01c",
   "metadata": {},
   "source": [
    "**2. Berapakah jumlah serta rata-rata penjualan 2 tahun terakhir dan total pelanggan di masing masing komoditas? Manakah yang tertinggi?**"
   ]
  },
  {
   "cell_type": "code",
   "execution_count": 39,
   "id": "faa5422a",
   "metadata": {},
   "outputs": [
    {
     "name": "stdout",
     "output_type": "stream",
     "text": [
      "Jumlah Penjualan Wines: 679826\n",
      "Jumlah Penjualan Fruits: 58731\n",
      "Jumlah Penjualan Meat: 368418\n",
      "Jumlah Penjualan Fish: 83905\n",
      "Jumlah Penjualan Sweet: 60543\n",
      "Jumlah Penjualan Gold: 98328\n"
     ]
    }
   ],
   "source": [
    "#Jumlah penjualan tiap komoditas\n",
    "print('Jumlah Penjualan Wines:',df.MntWines.sum())\n",
    "print('Jumlah Penjualan Fruits:',df.MntFruits.sum())\n",
    "print('Jumlah Penjualan Meat:',df.MntMeatProducts.sum())\n",
    "print('Jumlah Penjualan Fish:',df.MntFishProducts.sum())\n",
    "print('Jumlah Penjualan Sweet:',df.MntSweetProducts.sum())\n",
    "print('Jumlah Penjualan Gold:',df.MntGoldProds.sum())"
   ]
  },
  {
   "cell_type": "code",
   "execution_count": 40,
   "id": "cb5d09c3",
   "metadata": {},
   "outputs": [
    {
     "name": "stdout",
     "output_type": "stream",
     "text": [
      "Rata-Rata Penjualan Wines: 304.9914759982055\n",
      "Rata-Rata Penjualan Fruits: 26.348586810228802\n",
      "Rata-Rata Penjualan Meat: 165.28398384925976\n",
      "Rata-Rata Penjualan Fish: 37.64244055630328\n",
      "Rata-Rata Penjualan Sweet: 27.16150740242261\n",
      "Rata-Rata Penjualan Gold: 44.11305518169583\n"
     ]
    }
   ],
   "source": [
    "#Rata-rata penjualan tiap komoditas\n",
    "print('Rata-Rata Penjualan Wines:',df.MntWines.mean())\n",
    "print('Rata-Rata Penjualan Fruits:',df.MntFruits.mean())\n",
    "print('Rata-Rata Penjualan Meat:',df.MntMeatProducts.mean())\n",
    "print('Rata-Rata Penjualan Fish:',df.MntFishProducts.mean())\n",
    "print('Rata-Rata Penjualan Sweet:',df.MntSweetProducts.mean())\n",
    "print('Rata-Rata Penjualan Gold:',df.MntGoldProds.mean())"
   ]
  },
  {
   "cell_type": "code",
   "execution_count": 41,
   "id": "72616fa4",
   "metadata": {},
   "outputs": [
    {
     "name": "stdout",
     "output_type": "stream",
     "text": [
      "Total Pelanggan yang Membeli Wines: 2216\n",
      "Total Pelanggan yang Membeli Fruits: 1831\n",
      "Total Pelanggan yang Membeli Meat Products: 2228\n",
      "Total Pelanggan yang Membeli Fish Products: 1845\n",
      "Total Pelanggan yang Membeli Sweets: 1812\n",
      "Total Pelanggan yang Membeli Gold Products: 2168\n"
     ]
    }
   ],
   "source": [
    "# Menghitung total cust yang membeli setiap komoditas\n",
    "cust_wines = df['MntWines'].apply(lambda x: 1 if x > 0 else 0).sum()\n",
    "cust_fruits = df['MntFruits'].apply(lambda x: 1 if x > 0 else 0).sum()\n",
    "cust_meat = df['MntMeatProducts'].apply(lambda x: 1 if x > 0 else 0).sum()\n",
    "cust_fish = df['MntFishProducts'].apply(lambda x: 1 if x > 0 else 0).sum()\n",
    "cust_sweets = df['MntSweetProducts'].apply(lambda x: 1 if x > 0 else 0).sum()\n",
    "cust_gold = df['MntGoldProds'].apply(lambda x: 1 if x > 0 else 0).sum()\n",
    "\n",
    "# Total cust\n",
    "print(\"Total Pelanggan yang Membeli Wines:\", cust_wines)\n",
    "print(\"Total Pelanggan yang Membeli Fruits:\", cust_fruits)\n",
    "print(\"Total Pelanggan yang Membeli Meat Products:\", cust_meat)\n",
    "print(\"Total Pelanggan yang Membeli Fish Products:\", cust_fish)\n",
    "print(\"Total Pelanggan yang Membeli Sweets:\", cust_sweets)\n",
    "print(\"Total Pelanggan yang Membeli Gold Products:\", cust_gold)"
   ]
  },
  {
   "cell_type": "markdown",
   "id": "083bb565",
   "metadata": {},
   "source": [
    "Perhatikan bahwa secara rata-rata penjualan tertinggi adalah pembelian wines di angka 305, meat di angka 165, dan gold di angka 44. \n",
    "Jumlah penjualan tertinggi adalah pembelian wines di angka 679826, meat di angka 368418, dan gold di angka 98328. \n",
    "Total pelanggan tertinggi yang melakukan pembelian adalah wines, meat, dan gold.\n",
    "\n",
    "=========================================="
   ]
  },
  {
   "cell_type": "markdown",
   "id": "de5365e6",
   "metadata": {},
   "source": [
    "**3. Apa preferensi pembelian produk untuk setiap kelompok pelanggan? (Misalnya, kelompok umur, status pernikahan, dll.)**"
   ]
  },
  {
   "cell_type": "code",
   "execution_count": 42,
   "id": "4a2ec42c",
   "metadata": {},
   "outputs": [
    {
     "data": {
      "image/png": "[encoded data removed]",
      "text/plain": [
       "<Figure size 1080x720 with 1 Axes>"
      ]
     },
     "metadata": {
      "needs_background": "light"
     },
     "output_type": "display_data"
    }
   ],
   "source": [
    "# List komoditas\n",
    "products = [\"MntWines\", \"MntFruits\", \"MntMeatProducts\", \"MntFishProducts\", \"MntSweetProducts\", \"MntGoldProds\"]\n",
    "\n",
    "# Melt DataFrame untuk mempermudah visualisasi\n",
    "df_melted = pd.melt(df, id_vars=['Age_Labels'], value_vars=products, var_name='Product', value_name='Total_Purchase')\n",
    "\n",
    "# Plotting rata-rata pembelian produk untuk setiap kelompok umur\n",
    "plt.figure(figsize=(15, 10))\n",
    "sns.barplot(x='Age_Labels', y='Total_Purchase', hue='Product', data=df_melted, palette='viridis', alpha=0.7)\n",
    "plt.title('Average Purchase by Age Labels')\n",
    "plt.xlabel('Age Labels')\n",
    "plt.ylabel('Average Purchase')\n",
    "plt.legend(title='Product', bbox_to_anchor=(1.05, 1), loc='upper left')\n",
    "plt.show()"
   ]
  },
  {
   "cell_type": "markdown",
   "id": "91ad94c2",
   "metadata": {},
   "source": [
    "Perhatikan bahwa Teenagers adalah customer yang memiliki rata-rata pembelian tertinggi dari hampir seluruh komoditas selain Wines dan Gold (Emas), akan tetapi perlu diingat bahwa jumlah teenagers hanya 6 orang dari keseluruhan pelanggan\n",
    "\n",
    "=========================================="
   ]
  },
  {
   "cell_type": "code",
   "execution_count": 43,
   "id": "cc76e693",
   "metadata": {},
   "outputs": [
    {
     "data": {
      "image/png": "[encoded data removed]",
      "text/plain": [
       "<Figure size 1080x720 with 1 Axes>"
      ]
     },
     "metadata": {
      "needs_background": "light"
     },
     "output_type": "display_data"
    }
   ],
   "source": [
    "# Melt DataFrame untuk mempermudah visualisasi\n",
    "df_melted = pd.melt(df, id_vars=['Education'], value_vars=products, var_name='Product', value_name='Total_Purchase')\n",
    "\n",
    "# Plotting jumlah pembelian produk untuk setiap status pendidikan\n",
    "plt.figure(figsize=(15, 10))\n",
    "sns.barplot(x='Education', y='Total_Purchase', hue='Product', data=df_melted, palette='viridis', alpha=0.7)\n",
    "plt.title('Average Purchase by Education')\n",
    "plt.xlabel('Education')\n",
    "plt.ylabel('Average Purchase')\n",
    "plt.legend(title='Product', bbox_to_anchor=(1.05, 1), loc='upper left')\n",
    "plt.show()"
   ]
  },
  {
   "cell_type": "markdown",
   "id": "52552c75",
   "metadata": {},
   "source": [
    "Kecuali pada komoditas Wines, Graduation dan 2n Cycle canderung membeli lebih banyak daripada status pendidikan lainnya"
   ]
  },
  {
   "cell_type": "code",
   "execution_count": 44,
   "id": "9ca84484",
   "metadata": {},
   "outputs": [
    {
     "data": {
      "image/png": "[encoded data removed]",
      "text/plain": [
       "<Figure size 1080x720 with 1 Axes>"
      ]
     },
     "metadata": {
      "needs_background": "light"
     },
     "output_type": "display_data"
    }
   ],
   "source": [
    "# Melt DataFrame untuk mempermudah visualisasi\n",
    "df_melted = pd.melt(df, id_vars=['Marital_Status'], value_vars=products, var_name='Product', value_name='Total_Purchase')\n",
    "\n",
    "# Plotting jumlah pembelian produk untuk setiap status pernikahan\n",
    "plt.figure(figsize=(15, 10))\n",
    "sns.barplot(x='Marital_Status', y='Total_Purchase', hue='Product', data=df_melted, palette='viridis', alpha=0.7)\n",
    "plt.title('Average Purchase by Marital Status')\n",
    "plt.xlabel('Marital Status')\n",
    "plt.ylabel('Average Purchase')\n",
    "plt.legend(title='Product', bbox_to_anchor=(1.05, 1), loc='upper left')\n",
    "plt.show()"
   ]
  },
  {
   "cell_type": "markdown",
   "id": "eb3e9f5e",
   "metadata": {},
   "source": [
    "Seseorang yang memiliki status Widow memiliki rata-rata pembelian teringgi antar komoditas produk"
   ]
  },
  {
   "cell_type": "code",
   "execution_count": 45,
   "id": "9bdc679a",
   "metadata": {},
   "outputs": [
    {
     "data": {
      "image/png": "[encoded data removed]",
      "text/plain": [
       "<Figure size 1080x720 with 1 Axes>"
      ]
     },
     "metadata": {
      "needs_background": "light"
     },
     "output_type": "display_data"
    }
   ],
   "source": [
    "# Melt DataFrame untuk mempermudah visualisasi\n",
    "df_melted = pd.melt(df, id_vars=['Child_Status'], value_vars=products, var_name='Product', value_name='Total_Purchase')\n",
    "\n",
    "# Plotting jumlah pembelian produk untuk setiap status pernikahan\n",
    "plt.figure(figsize=(15, 10))\n",
    "sns.barplot(x='Child_Status', y='Total_Purchase', hue='Product', data=df_melted, palette='viridis', alpha=0.7)\n",
    "plt.title('Average Purchase by Marital Status')\n",
    "plt.xlabel('Have Child Status')\n",
    "plt.ylabel('Average Purchase')\n",
    "plt.legend(title='Product', bbox_to_anchor=(1.05, 1), loc='upper left')\n",
    "plt.show()"
   ]
  },
  {
   "cell_type": "markdown",
   "id": "5012a152",
   "metadata": {},
   "source": [
    "Seseorang yang memiliki status belum memiliki anak memiliki rata-rata pembelian teringgi antar komoditas produk\n",
    "\n",
    "=========================================="
   ]
  },
  {
   "cell_type": "markdown",
   "id": "f5dc162d",
   "metadata": {},
   "source": [
    "**4. Apakah terdapat korelasi positif/negatif antara income dan juga penjualan komoditas satu dengan yang lain?**"
   ]
  },
  {
   "cell_type": "code",
   "execution_count": 46,
   "id": "0be38d4c",
   "metadata": {},
   "outputs": [
    {
     "data": {
      "image/png": "[encoded data removed]",
      "text/plain": [
       "<Figure size 576x576 with 2 Axes>"
      ]
     },
     "metadata": {
      "needs_background": "light"
     },
     "output_type": "display_data"
    }
   ],
   "source": [
    "df_corr=df[['Income','MntWines','MntFruits','MntMeatProducts','MntFishProducts','MntSweetProducts','MntGoldProds']]\n",
    "plt.figure(figsize=(8, 8))\n",
    "sns.heatmap(df_corr.corr(), annot=True, fmt='.2g');"
   ]
  },
  {
   "cell_type": "markdown",
   "id": "4e001d33",
   "metadata": {},
   "source": [
    "Perhatikan bahwa:\n",
    "\n",
    "Seseorang yang memiliki income lebih suka membeli Wine dan Daging (Meat) (korelasi kuat >0.5)\n",
    "\n",
    "Seseorang yang cenderung membeli salah satu dari Fruits, Meat, Fish, dan Sweet akan cenderung membeli yang lainnya dari keempat komoditas tersebut (korelasi kuat >0.5)\n",
    "\n",
    "Seseorang yang membeli komoditas selain Gold korelasinya dengan membeli komoditas Gold cukup rendah (korelasi rendah <0.5)\n",
    "\n",
    "=========================================="
   ]
  },
  {
   "cell_type": "markdown",
   "id": "83e87a28",
   "metadata": {},
   "source": [
    "**5. Apakah ada korelasi antara total penghasilan pelanggan dengan jumlah pembelian dengan diskon?**"
   ]
  },
  {
   "cell_type": "markdown",
   "id": "4201acc0",
   "metadata": {},
   "source": [
    "Sebelum melakukan uji korelasi, kita perlu ketahui kenormalan data, supaya kita bisa menggunakan alat uji yang tepat"
   ]
  },
  {
   "cell_type": "code",
   "execution_count": 47,
   "id": "3d0546e1",
   "metadata": {},
   "outputs": [
    {
     "name": "stdout",
     "output_type": "stream",
     "text": [
      "Data Income tidak terdistribusi normal.\n",
      "Data NumDealsPurchases tidak terdistribusi normal.\n"
     ]
    }
   ],
   "source": [
    "#Melakukan uji normalitas dengan Kolmogorov-Smirnov\n",
    "for i in ['Income', 'NumDealsPurchases']:\n",
    "    stat, p_value = kstest(df[i], 'norm')\n",
    "\n",
    "    # Menentukan tingkat signifikansi (contoh: 0.05)\n",
    "    alpha = 0.05\n",
    "    \n",
    "    # Menyimpulkan hasil pengujian\n",
    "    if p_value < alpha:\n",
    "        print(\"Data {} tidak terdistribusi normal.\".format(i))\n",
    "    else:\n",
    "        print(\"Data {} terdistribusi normal.\".format(i))"
   ]
  },
  {
   "cell_type": "markdown",
   "id": "63ba27f8",
   "metadata": {},
   "source": [
    "Karena data tidak normal maka akan digunakan metode spearman"
   ]
  },
  {
   "cell_type": "code",
   "execution_count": 48,
   "id": "d5ccfd88",
   "metadata": {},
   "outputs": [
    {
     "name": "stdout",
     "output_type": "stream",
     "text": [
      "Matriks Korelasi Spearman:\n",
      "                     Income  NumDealsPurchases\n",
      "Income             1.000000          -0.191939\n",
      "NumDealsPurchases -0.191939           1.000000\n"
     ]
    }
   ],
   "source": [
    "korelasi_spearman1 = df[['Income', 'NumDealsPurchases']].corr(method='spearman')\n",
    "\n",
    "# Menampilkan matriks korelasi Spearman\n",
    "print(\"Matriks Korelasi Spearman:\")\n",
    "print(korelasi_spearman1)"
   ]
  },
  {
   "cell_type": "markdown",
   "id": "df3d6029",
   "metadata": {},
   "source": [
    "Berdasarkan matriks korelasi, korelasi antara 'Income' dan 'NumDealsPurchases' hanya -0.19 yang dapat disimpulkan bahwa tidak ada korelasi yang signifikan antara besar total penghasilan dan pembelian dengan diskon\n",
    "\n",
    "=========================================="
   ]
  },
  {
   "cell_type": "markdown",
   "id": "7e120924",
   "metadata": {},
   "source": [
    "**6. Kelompok umur mana yang cenderung melakukan pembelian melalui market place Web, Catalog atau Store?**"
   ]
  },
  {
   "cell_type": "code",
   "execution_count": 49,
   "id": "a5bc8acd",
   "metadata": {},
   "outputs": [
    {
     "data": {
      "image/png": "[encoded data removed]",
      "text/plain": [
       "<Figure size 720x432 with 1 Axes>"
      ]
     },
     "metadata": {
      "needs_background": "light"
     },
     "output_type": "display_data"
    }
   ],
   "source": [
    "# Kelompokkan data berdasarkan kategori umur\n",
    "df_mean = df.groupby('Age_Labels').mean()\n",
    "\n",
    "# Visualisasi\n",
    "plt.figure(figsize=(10, 6))\n",
    "bar_width = 0.2\n",
    "index = np.arange(len(df_mean.index))\n",
    "plt.bar(index, df_mean['NumWebPurchases'], width=bar_width, label='NumWebPurchases')\n",
    "plt.bar(index + bar_width, df_mean['NumCatalogPurchases'], width=bar_width, label='NumCatalogPurchases')\n",
    "plt.bar(index + 2 * bar_width, df_mean['NumStorePurchases'], width=bar_width, label='NumStorePurchases')\n",
    "plt.xlabel('Age Labels')\n",
    "plt.ylabel('Average Number of Purchases')\n",
    "plt.title('Average Purchases by Age Labels')\n",
    "plt.xticks(index + bar_width, df_mean.index)\n",
    "plt.legend()\n",
    "plt.show()"
   ]
  },
  {
   "cell_type": "markdown",
   "id": "b182c168",
   "metadata": {},
   "source": [
    "Berdasarkan grafik diatas maka disimpulkan bahwa rata-rata penjualan di toko masih diatas dibanding catalog dan web untuk setiap kategori umur\n",
    "\n",
    "=========================================="
   ]
  },
  {
   "cell_type": "markdown",
   "id": "ea34d469",
   "metadata": {},
   "source": [
    "**7. Berapakah rata-rata penjualan masing-masing market place?**"
   ]
  },
  {
   "cell_type": "code",
   "execution_count": 50,
   "id": "b8790806",
   "metadata": {},
   "outputs": [
    {
     "name": "stdout",
     "output_type": "stream",
     "text": [
      "Rata-rata pembelian via NumWebPurchases : 4.10004486316734\n",
      "Rata-rata pembelian via NumCatalogPurchases : 2.636608344549125\n",
      "Rata-rata pembelian via NumStorePurchases : 5.812471960520413\n"
     ]
    }
   ],
   "source": [
    "for i in ['NumWebPurchases', 'NumCatalogPurchases', 'NumStorePurchases']:\n",
    "    mean_purc= df[i].mean()\n",
    "    print(f\"Rata-rata pembelian via {i} : {mean_purc}\")"
   ]
  },
  {
   "cell_type": "markdown",
   "id": "2212702d",
   "metadata": {},
   "source": [
    "**8. Apakah rata-rata pembelian antar market place yaitu Web, Catalog dan Store sama?**\n",
    "\n",
    "Kita akan menguji kenormalan data terlebih dahulu sehingga dapat digunakan alat uji hipotesis yang sesuai"
   ]
  },
  {
   "cell_type": "code",
   "execution_count": 51,
   "id": "3052c55a",
   "metadata": {},
   "outputs": [
    {
     "name": "stdout",
     "output_type": "stream",
     "text": [
      "Data NumWebPurchases tidak terdistribusi normal.\n",
      "Data NumCatalogPurchases tidak terdistribusi normal.\n",
      "Data NumStorePurchases tidak terdistribusi normal.\n"
     ]
    }
   ],
   "source": [
    "#Melakukan uji normalitas dengan Kolmogorov-Smirnov\n",
    "for i in ['NumWebPurchases', 'NumCatalogPurchases', 'NumStorePurchases']:\n",
    "    stat, p_value = kstest(df[i], 'norm')\n",
    "\n",
    "    # Menentukan tingkat signifikansi (contoh: 0.05)\n",
    "    alpha = 0.05\n",
    "    \n",
    "    # Menyimpulkan hasil pengujian\n",
    "    if p_value < alpha:\n",
    "        print(\"Data {} tidak terdistribusi normal.\".format(i))\n",
    "    else:\n",
    "        print(\"Data {} terdistribusi normal.\".format(i))"
   ]
  },
  {
   "cell_type": "markdown",
   "id": "61dc3dde",
   "metadata": {},
   "source": [
    "Akibat ketiga data tidak normal, maka kita akan gunakan Kruskal Wallis test\n",
    "\n",
    "Hipotesis:\n",
    "\n",
    "H0: Median pembelian via Web, Catalog dan Store\n",
    "\n",
    "HA: Ada setidaknya 1 median pembelian via Web, Catalog atau Store yang berbeda secara signifikan"
   ]
  },
  {
   "cell_type": "code",
   "execution_count": 52,
   "id": "aa7187f6",
   "metadata": {},
   "outputs": [
    {
     "name": "stdout",
     "output_type": "stream",
     "text": [
      "Terdapat bukti statistik yang cukup untuk menolak hipotesis nol.\n",
      "Ada setidaknya 1 median pembelian via Web, Catalog atau Store yang berbeda secara signifikan\n"
     ]
    }
   ],
   "source": [
    "from scipy.stats import kruskal\n",
    "\n",
    "f_stat, p_value = kruskal(df['NumWebPurchases'], df['NumCatalogPurchases'], df['NumStorePurchases'])\n",
    "\n",
    "if p_value < 0.05:\n",
    "    print('Terdapat bukti statistik yang cukup untuk menolak hipotesis nol.')\n",
    "    print('Ada setidaknya 1 median pembelian via Web, Catalog atau Store yang berbeda secara signifikan')\n",
    "else:\n",
    "    print('Tidak terdapat bukti statistik yang cukup untuk menolak hipotesis nol.')"
   ]
  },
  {
   "cell_type": "markdown",
   "id": "b1bd2757",
   "metadata": {},
   "source": [
    "Jadi, terdapat perbedaan rata-rata pembelian produk antar market place  \n",
    "\n",
    "=========================================="
   ]
  },
  {
   "cell_type": "markdown",
   "id": "8afd59a8",
   "metadata": {},
   "source": [
    "**9. Apakah ada korelasi antara pembelian dengan diskon dengan terakhir kali pelanggan melakukan pembelian?**\n",
    "\n",
    "Kita akan menguji kenormalan data terlebih dahulu sehingga dapat digunakan alat uji korelasi spearman / pearson"
   ]
  },
  {
   "cell_type": "code",
   "execution_count": 53,
   "id": "b9cff7b7",
   "metadata": {},
   "outputs": [
    {
     "name": "stdout",
     "output_type": "stream",
     "text": [
      "Data NumDealsPurchases tidak terdistribusi normal.\n",
      "Data Recency tidak terdistribusi normal.\n"
     ]
    }
   ],
   "source": [
    "#Melakukan uji normalitas dengan Kolmogorov-Smirnov\n",
    "for i in ['NumDealsPurchases', 'Recency']:\n",
    "    stat, p_value = kstest(df[i], 'norm')\n",
    "\n",
    "    # Menentukan tingkat signifikansi (contoh: 0.05)\n",
    "    alpha = 0.05\n",
    "    \n",
    "    # Menyimpulkan hasil pengujian\n",
    "    if p_value < alpha:\n",
    "        print(\"Data {} tidak terdistribusi normal.\".format(i))\n",
    "    else:\n",
    "        print(\"Data {} terdistribusi normal.\".format(i))"
   ]
  },
  {
   "cell_type": "markdown",
   "id": "5a046e5b",
   "metadata": {},
   "source": [
    "Karena data tidak normal maka akan digunakan metode spearman"
   ]
  },
  {
   "cell_type": "code",
   "execution_count": 54,
   "id": "5831310d",
   "metadata": {},
   "outputs": [
    {
     "name": "stdout",
     "output_type": "stream",
     "text": [
      "Matriks Korelasi Spearman:\n",
      "                   NumDealsPurchases   Recency\n",
      "NumDealsPurchases           1.000000  0.007872\n",
      "Recency                     0.007872  1.000000\n"
     ]
    }
   ],
   "source": [
    "korelasi_spearman2 = df[['NumDealsPurchases', 'Recency']].corr(method='spearman')\n",
    "\n",
    "# Menampilkan matriks korelasi Spearman\n",
    "print(\"Matriks Korelasi Spearman:\")\n",
    "print(korelasi_spearman2)"
   ]
  },
  {
   "cell_type": "markdown",
   "id": "6d349aee",
   "metadata": {},
   "source": [
    "Berdasarkan matriks korelasi, korelasi antara 'NumDealsPurchases' dan 'Recency' hanya 0.007 yang dapat disimpulkan bahwa tidak ada korelasi yang signifikan antara pembelian dengan diskon dengan terakhir kali melakukan pembelian\n",
    "\n",
    "=========================================="
   ]
  },
  {
   "cell_type": "markdown",
   "id": "ec789630",
   "metadata": {},
   "source": [
    "## Efektifitas Campaign"
   ]
  },
  {
   "cell_type": "markdown",
   "id": "fce32432",
   "metadata": {},
   "source": [
    "**1. Jumlah pelanggan yang sukses mengikuti campaign 1 s/d terakhir? Manakah yang tertinggi?**"
   ]
  },
  {
   "cell_type": "code",
   "execution_count": 55,
   "id": "8480d400",
   "metadata": {},
   "outputs": [
    {
     "name": "stdout",
     "output_type": "stream",
     "text": [
      "Jumlah pelanggan yang berhasil mengikuti Campaign 1: 144\n",
      "Jumlah pelanggan yang berhasil mengikuti Campaign 2: 30\n",
      "Jumlah pelanggan yang berhasil mengikuti Campaign 3: 163\n",
      "Jumlah pelanggan yang berhasil mengikuti Campaign 4: 167\n",
      "Jumlah pelanggan yang berhasil mengikuti Campaign 5: 162\n",
      "Jumlah pelanggan yang berhasil mengikuti Campaign terakhir: 334\n"
     ]
    }
   ],
   "source": [
    "# Menghitung jumlah pelanggan yang berhasil mengikuti setiap Campaign\n",
    "Succ_campaign1 = df['AcceptedCmp1'].sum()\n",
    "Succ_campaign2 = df['AcceptedCmp2'].sum()\n",
    "Succ_campaign3 = df['AcceptedCmp3'].sum()\n",
    "Succ_campaign4 = df['AcceptedCmp4'].sum()\n",
    "Succ_campaign5 = df['AcceptedCmp5'].sum()\n",
    "Succ_lastcampaign = df['Response'].sum()\n",
    "\n",
    "# Menampilkan hasil\n",
    "print(\"Jumlah pelanggan yang berhasil mengikuti Campaign 1:\", Succ_campaign1)\n",
    "print(\"Jumlah pelanggan yang berhasil mengikuti Campaign 2:\", Succ_campaign2)\n",
    "print(\"Jumlah pelanggan yang berhasil mengikuti Campaign 3:\", Succ_campaign3)\n",
    "print(\"Jumlah pelanggan yang berhasil mengikuti Campaign 4:\", Succ_campaign4)\n",
    "print(\"Jumlah pelanggan yang berhasil mengikuti Campaign 5:\", Succ_campaign5)\n",
    "print(\"Jumlah pelanggan yang berhasil mengikuti Campaign terakhir:\", Succ_lastcampaign)"
   ]
  },
  {
   "cell_type": "markdown",
   "id": "62cc59ca",
   "metadata": {},
   "source": [
    "Perhatikan bahwa jumlah pelanggan yang mengikuti campaign terakhir cenderung lebih tinggi daripada sebelumnya, kita akan lanjutkan dengan uji proporsi.\n",
    "\n",
    "=========================================="
   ]
  },
  {
   "cell_type": "markdown",
   "id": "c976918f",
   "metadata": {},
   "source": [
    "**2. Bagaimana efektivitas campaign terakhir dibandingkan dengan campaign sebelumnya?**\n",
    "\n",
    "Kita akan menguji proporsi dalam melihat efektifitas campaign terakhir ini\n",
    "\n",
    "Hipotesis:\n",
    "\n",
    "H0: prop last campaign dan prop old campaign (campaign 1-5)\n",
    "\n",
    "HA: prop last campaign > prop old campaign (campaign 1-5)"
   ]
  },
  {
   "cell_type": "code",
   "execution_count": 56,
   "id": "986f1bff",
   "metadata": {},
   "outputs": [
    {
     "name": "stdout",
     "output_type": "stream",
     "text": [
      "P Value: 1.8324658840890775e-20\n",
      "Tolak H0, Jadi prop last campaign > prop old campaign (AcceptedCmp1)\n",
      "=======================================================\n",
      "P Value: 2.2142119458033553e-62\n",
      "Tolak H0, Jadi prop last campaign > prop old campaign (AcceptedCmp2)\n",
      "=======================================================\n",
      "P Value: 2.0193265872606002e-16\n",
      "Tolak H0, Jadi prop last campaign > prop old campaign (AcceptedCmp3)\n",
      "=======================================================\n",
      "P Value: 1.1946389768546021e-15\n",
      "Tolak H0, Jadi prop last campaign > prop old campaign (AcceptedCmp4)\n",
      "=======================================================\n",
      "P Value: 1.2824981498138401e-16\n",
      "Tolak H0, Jadi prop last campaign > prop old campaign (AcceptedCmp5)\n",
      "=======================================================\n"
     ]
    }
   ],
   "source": [
    "from statsmodels.stats.proportion import proportions_ztest\n",
    "for i in ['AcceptedCmp1', 'AcceptedCmp2', 'AcceptedCmp3', 'AcceptedCmp4', 'AcceptedCmp5']:\n",
    "    Old_acc = np.where(df[i] == 1, 'Buying', 'No_Buying')\n",
    "    Last_acc = np.where(df['Response'] == 1, 'Buying', 'No_Buying')\n",
    "    \n",
    "    df_full = pd.DataFrame(columns=['Campaign', 'Conversion'])\n",
    "    \n",
    "    # Menambahkan data kampanye lama ke df_full\n",
    "    df_old = pd.DataFrame({'Campaign': 'Old_Campaign', 'Conversion': Old_acc})\n",
    "    df_full = df_full.append(df_old, ignore_index=True)\n",
    "    \n",
    "    # Menambahkan data kampanye terakhir ke df_full\n",
    "    df_last = pd.DataFrame({'Campaign': 'Last_Campaign', 'Conversion': Last_acc})\n",
    "    df_full = df_full.append(df_last, ignore_index=True)\n",
    "    \n",
    "    #Conversion rate old campaign\n",
    "    n_success_old=len(df_full[(df_full['Campaign']=='Old_Campaign') & (df_full['Conversion']=='Buying')])\n",
    "    n_old=len(df_full[(df_full['Campaign']=='Old_Campaign')])\n",
    "    \n",
    "    #Conversion rate last campaign\n",
    "    n_success_last=len(df_full[(df_full['Campaign']=='Last_Campaign') & (df_full['Conversion']=='Buying')])\n",
    "    n_last=len(df_full[(df_full['Campaign']=='Last_Campaign')])\n",
    "    \n",
    "    #total number buying transaction success\n",
    "    number_success=np.array([n_success_old,n_success_last])\n",
    "    \n",
    "    #total trafic (all visitor (buy/not))\n",
    "    total_trafic=np.array([n_old,n_last])\n",
    "    \n",
    "    #Uji Hipotesis 2 Proporsi\n",
    "    z_stat,p_value=proportions_ztest(number_success,total_trafic,alternative='smaller')\n",
    "    \n",
    "    print('P Value:',p_value)\n",
    "    if p_value<=0.05/2:\n",
    "        print('Tolak H0, Jadi prop last campaign > prop old campaign ({})'.format(i))\n",
    "    else:\n",
    "        print('Terima H0, Jadi prop last campaign > prop old campaign ({})'.format(i))\n",
    "    print('=======================================================')"
   ]
  },
  {
   "cell_type": "markdown",
   "id": "2faa4d84",
   "metadata": {},
   "source": [
    "Perhatikan bahwa dari uji hipotesis disimpulkan bahwa campaign terakhir (Response) jauh lebih berhasil dibandingkan campaign sebelumnya.\n",
    "\n",
    "=========================================="
   ]
  },
  {
   "cell_type": "markdown",
   "id": "75baf63f",
   "metadata": {},
   "source": [
    "**3. Jumlah Customer yang sukses mengikuti campaign terakhir setiap kelompok umur?**"
   ]
  },
  {
   "cell_type": "code",
   "execution_count": 57,
   "id": "e2037e06",
   "metadata": {},
   "outputs": [
    {
     "name": "stdout",
     "output_type": "stream",
     "text": [
      "Jumlah pelanggan yang berhasil mengikuti Campaign terakhir berdasarkan kelompok umur:\n",
      "Age_Labels\n",
      "Child           0\n",
      "Teenagers       3\n",
      "Adult         185\n",
      "Pre-Senior     99\n",
      "Senior         47\n",
      "Name: Response, dtype: int64\n",
      "\n",
      "\n",
      "Persentase pelanggan yang berhasil mengikuti Campaign terakhir berdasarkan kelompok umur:\n",
      "Age_Labels\n",
      "Child               NaN\n",
      "Teenagers     50.000000\n",
      "Adult         16.129032\n",
      "Pre-Senior    12.992126\n",
      "Senior        14.968153\n",
      "Name: Response, dtype: float64\n"
     ]
    }
   ],
   "source": [
    "# Menghitung jumlah pelanggan yang berhasil mengikuti campaign terakhir (Response) berdasarkan kelompok umur\n",
    "totallast_bygroup= df.groupby('Age_Labels')['Response'].sum()\n",
    "\n",
    "# Menghitung persentase pelanggan yang berhasil mengikuti campaign terakhir (Response) berdasarkan kelompok umur\n",
    "perclast_bygroup = df.groupby('Age_Labels')['Response'].mean() * 100\n",
    "\n",
    "# Menampilkan hasil\n",
    "print(\"Jumlah pelanggan yang berhasil mengikuti Campaign terakhir berdasarkan kelompok umur:\")\n",
    "print(totallast_bygroup)\n",
    "print('\\n')\n",
    "print(\"Persentase pelanggan yang berhasil mengikuti Campaign terakhir berdasarkan kelompok umur:\")\n",
    "print(perclast_bygroup)"
   ]
  },
  {
   "cell_type": "markdown",
   "id": "c9058918",
   "metadata": {},
   "source": [
    "Perhatikan bahwa, 'Teenagers' memiliki proporsi penerimaan campaign terakhir yang tertinggi, namun perlu diingat hanya 3 dari total 6 pelanggan yang tercatat dalam kategori ini. Selanjutnya, kecuali pada kelompok umur 'Teenagers', proporsi penerimaan campaign terakhir cenderung sama, kita akan uji untuk melihatnya\n",
    "\n",
    "=========================================="
   ]
  },
  {
   "cell_type": "markdown",
   "id": "af99446a",
   "metadata": {},
   "source": [
    "**4. Apakah terdapat perbedaan proporsi kesuksesan campaign untuk masing-masing kategori umur pelanggan ('Adult', 'Pre-Senior', 'Senior')?**\n",
    "\n",
    "Hipotesis:\n",
    "\n",
    "H0: Tidak terdapat perbedaan antar proporsi keberhasilan kampanye terakhir masing masing kategori umur ('Adult', 'Pre-Senior', 'Senior'). \n",
    "\n",
    "HA: Terdapat perbedaan signifikan dalam proporsi keberhasilan kampanye terakhir masing masing kategori umur ('Adult', 'Pre-Senior', 'Senior')."
   ]
  },
  {
   "cell_type": "code",
   "execution_count": 58,
   "id": "649c3489",
   "metadata": {},
   "outputs": [
    {
     "name": "stdout",
     "output_type": "stream",
     "text": [
      "Nilai Chi-square: 3.556818853974934\n",
      "P-value: 0.16890659198839247\n",
      "Tidak terdapat bukti statistik yang cukup untuk menolak hipotesis nol.\n"
     ]
    }
   ],
   "source": [
    "from scipy.stats import chi2_contingency\n",
    "\n",
    "\n",
    "# Filter DataFrame untuk hanya mempertimbangkan 'Adult', 'Pre-Senior', dan 'Senior'\n",
    "filtered_df = df[df['Age_Labels'].isin(['Adult', 'Pre-Senior', 'Senior'])]\n",
    "\n",
    "# Membuat tabel kontingensi (cross tab) untuk uji chi-square\n",
    "contingency_table = pd.crosstab(filtered_df['Age_Labels'], filtered_df['Response'])\n",
    "\n",
    "# Melakukan uji chi-square\n",
    "chi2_stat, p_value, _, _ = chi2_contingency(contingency_table)\n",
    "\n",
    "print(f'Nilai Chi-square: {chi2_stat}')\n",
    "print(f'P-value: {p_value}')\n",
    "\n",
    "if p_value < 0.05:\n",
    "    print('Terdapat bukti statistik yang cukup untuk menolak hipotesis nol.')\n",
    "    print('Terdapat perbedaan signifikan dalam proporsi keberhasilan kampanye terakhir masing masing kategori umur.')\n",
    "else:\n",
    "    print('Tidak terdapat bukti statistik yang cukup untuk menolak hipotesis nol.')"
   ]
  },
  {
   "cell_type": "markdown",
   "id": "588d3237",
   "metadata": {},
   "source": [
    "Jadi H0 diterima yaitu: Tidak terdapat perbedaan antar proporsi keberhasilan kampanye terakhir masing masing kategori umur ('Adult', 'Pre-Senior', 'Senior'). \n",
    "\n",
    "=========================================="
   ]
  },
  {
   "cell_type": "markdown",
   "id": "6e22ee06",
   "metadata": {},
   "source": [
    "## Efektifitas Website: "
   ]
  },
  {
   "cell_type": "markdown",
   "id": "51905787",
   "metadata": {},
   "source": [
    "**1. Berapakah rata-rata seseorang berkunjung ke website (perbulan)?**"
   ]
  },
  {
   "cell_type": "code",
   "execution_count": 59,
   "id": "ff81d529",
   "metadata": {},
   "outputs": [
    {
     "name": "stdout",
     "output_type": "stream",
     "text": [
      "Rata-rata kunjungan website per bulan: 5.334230596680126\n"
     ]
    }
   ],
   "source": [
    "mean_web_visits = df['NumWebVisitsMonth'].mean()\n",
    "print(f\"Rata-rata kunjungan website per bulan: {mean_web_visits}\")"
   ]
  },
  {
   "cell_type": "markdown",
   "id": "df70bc1c",
   "metadata": {},
   "source": [
    "**2. Berapakah rata-rata penjualan via website?**"
   ]
  },
  {
   "cell_type": "code",
   "execution_count": 60,
   "id": "4d00772d",
   "metadata": {},
   "outputs": [
    {
     "name": "stdout",
     "output_type": "stream",
     "text": [
      "Rata-rata penjualan via web: 4.10004486316734\n"
     ]
    }
   ],
   "source": [
    "mean_web_purc = df['NumWebPurchases'].mean()\n",
    "print(f\"Rata-rata penjualan via web: {mean_web_purc}\")"
   ]
  },
  {
   "cell_type": "markdown",
   "id": "30302920",
   "metadata": {},
   "source": [
    "**3. Apakah ada korelasi antara frekuensi kunjungan situs web atau toko oleh pelanggan dengan jumlah pembelian produk via web?**\n",
    "\n",
    "Kita akan menguji kenormalan data terlebih dahulu sehingga dapat digunakan alat uji korelasi spearman / pearson"
   ]
  },
  {
   "cell_type": "code",
   "execution_count": 61,
   "id": "adbe8ede",
   "metadata": {},
   "outputs": [
    {
     "name": "stdout",
     "output_type": "stream",
     "text": [
      "Data NumWebPurchases tidak terdistribusi normal.\n",
      "Data NumWebVisitsMonth tidak terdistribusi normal.\n"
     ]
    }
   ],
   "source": [
    "#Melakukan uji normalitas dengan Kolmogorov-Smirnov\n",
    "for i in ['NumWebPurchases', 'NumWebVisitsMonth']:\n",
    "    stat, p_value = kstest(df[i], 'norm')\n",
    "\n",
    "    # Menentukan tingkat signifikansi (contoh: 0.05)\n",
    "    alpha = 0.05\n",
    "    \n",
    "    # Menyimpulkan hasil pengujian\n",
    "    if p_value < alpha:\n",
    "        print(\"Data {} tidak terdistribusi normal.\".format(i))\n",
    "    else:\n",
    "        print(\"Data {} terdistribusi normal.\".format(i))"
   ]
  },
  {
   "cell_type": "markdown",
   "id": "902a7ee6",
   "metadata": {},
   "source": [
    "Karena data tidak normal maka akan digunakan metode spearman"
   ]
  },
  {
   "cell_type": "code",
   "execution_count": 62,
   "id": "ad0f8c34",
   "metadata": {
    "scrolled": true
   },
   "outputs": [
    {
     "name": "stdout",
     "output_type": "stream",
     "text": [
      "Matriks Korelasi Spearman:\n",
      "                   NumWebPurchases  NumWebVisitsMonth\n",
      "NumWebPurchases           1.000000          -0.107348\n",
      "NumWebVisitsMonth        -0.107348           1.000000\n"
     ]
    }
   ],
   "source": [
    "korelasi_spearman3 = df[['NumWebPurchases', 'NumWebVisitsMonth']].corr(method='spearman')\n",
    "\n",
    "# Menampilkan matriks korelasi Spearman\n",
    "print(\"Matriks Korelasi Spearman:\")\n",
    "print(korelasi_spearman3)"
   ]
  },
  {
   "cell_type": "markdown",
   "id": "9baee3ae",
   "metadata": {},
   "source": [
    "Berdasarkan matriks korelasi, korelasi antara 'NumWebPurchases' dan 'NumWebVisitsMonth' hanya -0.107 yang dapat disimpulkan bahwa tidak ada korelasi yang signifikan antara pembelian dan jumlah kunjungan di web\n",
    "\n",
    "=========================================="
   ]
  },
  {
   "cell_type": "markdown",
   "id": "1b8b4dd8",
   "metadata": {},
   "source": [
    "**4. Berapakah rata-rata kunjungan website setiap kategori umur**"
   ]
  },
  {
   "cell_type": "code",
   "execution_count": 63,
   "id": "4b13bc01",
   "metadata": {},
   "outputs": [
    {
     "data": {
      "text/plain": [
       "Age_Labels\n",
       "Child              NaN\n",
       "Teenagers     4.500000\n",
       "Adult         5.648649\n",
       "Pre-Senior    5.145669\n",
       "Senior        4.659236\n",
       "Name: NumWebVisitsMonth, dtype: float64"
      ]
     },
     "execution_count": 63,
     "metadata": {},
     "output_type": "execute_result"
    }
   ],
   "source": [
    "# Menghitung rata-rata kunjungan setiap kelompok umur\n",
    "web_visits_byage = df.groupby('Age_Labels')['NumWebVisitsMonth'].mean()\n",
    "\n",
    "web_visits_byage"
   ]
  },
  {
   "cell_type": "markdown",
   "id": "07633d96",
   "metadata": {},
   "source": [
    "Perhatikan bahwa rata-rata kunjungan website antar kategori umur tidak jauh berbeda yaitu di sekitar 5\n",
    "\n",
    "\n",
    "=========================================="
   ]
  },
  {
   "cell_type": "markdown",
   "id": "461a4ae7",
   "metadata": {},
   "source": [
    "**5. Berapakah rata-rata dari total pembelian via website setiap kategori umur?**"
   ]
  },
  {
   "cell_type": "code",
   "execution_count": 64,
   "id": "2ac3a98c",
   "metadata": {},
   "outputs": [
    {
     "data": {
      "text/plain": [
       "Age_Labels\n",
       "Child              NaN\n",
       "Teenagers     4.333333\n",
       "Adult         3.741064\n",
       "Pre-Senior    4.417323\n",
       "Senior        4.636943\n",
       "Name: NumWebPurchases, dtype: float64"
      ]
     },
     "execution_count": 64,
     "metadata": {},
     "output_type": "execute_result"
    }
   ],
   "source": [
    "# Menghitung rata-rata pembelian via website setiap kelompok umur\n",
    "web_purchases_byage = df.groupby('Age_Labels')['NumWebPurchases'].mean()\n",
    "\n",
    "web_purchases_byage"
   ]
  },
  {
   "cell_type": "markdown",
   "id": "d71ffa09",
   "metadata": {},
   "source": [
    "Perhatikan bahwa rata-rata dari total pembelian via website antar kategori umur tidak jauh berbeda yaitu di sekitar 4\n",
    "\n",
    "=========================================="
   ]
  },
  {
   "cell_type": "markdown",
   "id": "b25be260",
   "metadata": {},
   "source": [
    "## Komplain Pelanggan: "
   ]
  },
  {
   "cell_type": "markdown",
   "id": "f5e01ce4",
   "metadata": {},
   "source": [
    "**1. Berapakah jumlah dan persentase pelanggan yang melakukan komplain?**"
   ]
  },
  {
   "cell_type": "code",
   "execution_count": 65,
   "id": "cdfbe1f6",
   "metadata": {},
   "outputs": [
    {
     "data": {
      "text/plain": [
       "20"
      ]
     },
     "execution_count": 65,
     "metadata": {},
     "output_type": "execute_result"
    }
   ],
   "source": [
    "komplain = df[df['Complain'] == 1].shape[0]\n",
    "komplain"
   ]
  },
  {
   "cell_type": "code",
   "execution_count": 66,
   "id": "c1aa1d4a",
   "metadata": {},
   "outputs": [
    {
     "data": {
      "text/plain": [
       "0.8972633467922835"
      ]
     },
     "execution_count": 66,
     "metadata": {},
     "output_type": "execute_result"
    }
   ],
   "source": [
    "perc_komplain=komplain/total*100\n",
    "perc_komplain"
   ]
  },
  {
   "cell_type": "markdown",
   "id": "6e2dd6d5",
   "metadata": {},
   "source": [
    "Perhatikan bahwa hanya ada 20 pelanggan yang melakukan komplain, dengan persentase tidak mencapai 1% dari keseluruhan\n",
    "\n",
    "=========================================="
   ]
  },
  {
   "cell_type": "markdown",
   "id": "ebceb926",
   "metadata": {},
   "source": [
    "**2. Kelompok mana yang cenderung melakukan komplain terkait pembelian?**"
   ]
  },
  {
   "cell_type": "code",
   "execution_count": 67,
   "id": "39e486ce",
   "metadata": {},
   "outputs": [
    {
     "data": {
      "image/png": "[encoded data removed]",
      "text/plain": [
       "<Figure size 360x360 with 1 Axes>"
      ]
     },
     "metadata": {},
     "output_type": "display_data"
    }
   ],
   "source": [
    "#Melihat kategori usia yang paling sering complain\n",
    "complain_counts = df.groupby('Age_Labels')['Complain'].sum()\n",
    "\n",
    "plt.figure(figsize=(5, 5))\n",
    "plt.pie(complain_counts, \n",
    "        labels=complain_counts.index, \n",
    "        autopct='%1.1f%%', startangle=90, \n",
    "        colors=['palegreen','lightyellow','deeppink', 'violet'])\n",
    "plt.title('Persentase Komplain Berdasarkan Kategori Usia')\n",
    "plt.show()"
   ]
  },
  {
   "cell_type": "code",
   "execution_count": 68,
   "id": "0714c62a",
   "metadata": {},
   "outputs": [
    {
     "data": {
      "image/png": "[encoded data removed]",
      "text/plain": [
       "<Figure size 360x360 with 1 Axes>"
      ]
     },
     "metadata": {},
     "output_type": "display_data"
    }
   ],
   "source": [
    "#Melihat status pernikahan yang paling sering complain\n",
    "complain_counts = df.groupby('Marital_Status')['Complain'].sum()\n",
    "\n",
    "plt.figure(figsize=(5, 5))\n",
    "plt.pie(complain_counts, \n",
    "        labels=complain_counts.index, \n",
    "        autopct='%1.1f%%', startangle=90, \n",
    "        colors=['palegreen','lightyellow','deeppink', 'violet'])\n",
    "plt.title('Persentase Komplain Berdasarkan Status Pernikahan')\n",
    "plt.show()"
   ]
  },
  {
   "cell_type": "code",
   "execution_count": 69,
   "id": "ff6e7126",
   "metadata": {},
   "outputs": [
    {
     "data": {
      "image/png": "[encoded data removed]",
      "text/plain": [
       "<Figure size 360x360 with 1 Axes>"
      ]
     },
     "metadata": {},
     "output_type": "display_data"
    }
   ],
   "source": [
    "#Melihat status pendidikan yang paling sering complain\n",
    "complain_counts = df.groupby('Education')['Complain'].sum()\n",
    "\n",
    "plt.figure(figsize=(5, 5))\n",
    "plt.pie(complain_counts, \n",
    "        labels=complain_counts.index, \n",
    "        autopct='%1.1f%%', startangle=90, \n",
    "        colors=['palegreen','lightyellow','deeppink', 'violet', 'lightblue'])\n",
    "plt.title('Persentase Komplain Berdasarkan Status Pendidikan')\n",
    "plt.show()"
   ]
  },
  {
   "cell_type": "code",
   "execution_count": 70,
   "id": "2f556fe4",
   "metadata": {},
   "outputs": [
    {
     "data": {
      "image/png": "[encoded data removed]",
      "text/plain": [
       "<Figure size 360x360 with 1 Axes>"
      ]
     },
     "metadata": {},
     "output_type": "display_data"
    }
   ],
   "source": [
    "#Melihat status memiliki anak / tidak yang paling sering complain\n",
    "complain_counts = df.groupby('Child_Status')['Complain'].sum()\n",
    "\n",
    "plt.figure(figsize=(5, 5))\n",
    "plt.pie(complain_counts, \n",
    "        labels=complain_counts.index, \n",
    "        autopct='%1.1f%%', startangle=90, \n",
    "        colors=['wheat','deeppink'])\n",
    "plt.title('Persentase Komplain Berdasarkan Status Memiliki Anak/Tidak')\n",
    "plt.show()"
   ]
  },
  {
   "cell_type": "markdown",
   "id": "bc77802e",
   "metadata": {},
   "source": [
    "Perhatikan bahwa:\n",
    "\n",
    "1. Kategori usia yang semakin lanjut akan cenderung melakukan komplain lebih banyak dibanginkan kategori usia yang lebih muda\n",
    "2. Kategori status pernikahan yang cenderung melakukan komplain adalah yang berstatus single\n",
    "3. Kategori status pendidikan yang cenderung melakukan komplain adalah yang berstatus graduation\n",
    "4. Kategori status memiliki anak / tidak yang cenderung melakukan komplain adalah yang memiliki anak\n",
    "\n",
    "=========================================="
   ]
  },
  {
   "cell_type": "markdown",
   "id": "10eb6844",
   "metadata": {},
   "source": [
    "**3. Berapakah total pembelian setiap komoditas untuk konsumen yang melakukan komplain?**"
   ]
  },
  {
   "cell_type": "code",
   "execution_count": 71,
   "id": "e0d5e6e5",
   "metadata": {},
   "outputs": [
    {
     "data": {
      "text/html": [
       "<div>\n",
       "<style scoped>\n",
       "    .dataframe tbody tr th:only-of-type {\n",
       "        vertical-align: middle;\n",
       "    }\n",
       "\n",
       "    .dataframe tbody tr th {\n",
       "        vertical-align: top;\n",
       "    }\n",
       "\n",
       "    .dataframe thead th {\n",
       "        text-align: right;\n",
       "    }\n",
       "</style>\n",
       "<table border=\"1\" class=\"dataframe\">\n",
       "  <thead>\n",
       "    <tr style=\"text-align: right;\">\n",
       "      <th></th>\n",
       "      <th>MntWines</th>\n",
       "      <th>MntFruits</th>\n",
       "      <th>MntMeatProducts</th>\n",
       "      <th>MntFishProducts</th>\n",
       "      <th>MntSweetProducts</th>\n",
       "      <th>MntGoldProds</th>\n",
       "    </tr>\n",
       "    <tr>\n",
       "      <th>Complain</th>\n",
       "      <th></th>\n",
       "      <th></th>\n",
       "      <th></th>\n",
       "      <th></th>\n",
       "      <th></th>\n",
       "      <th></th>\n",
       "    </tr>\n",
       "  </thead>\n",
       "  <tbody>\n",
       "    <tr>\n",
       "      <th>1</th>\n",
       "      <td>3534</td>\n",
       "      <td>502</td>\n",
       "      <td>2354</td>\n",
       "      <td>534</td>\n",
       "      <td>364</td>\n",
       "      <td>552</td>\n",
       "    </tr>\n",
       "  </tbody>\n",
       "</table>\n",
       "</div>"
      ],
      "text/plain": [
       "          MntWines  MntFruits  MntMeatProducts  MntFishProducts  \\\n",
       "Complain                                                          \n",
       "1             3534        502             2354              534   \n",
       "\n",
       "          MntSweetProducts  MntGoldProds  \n",
       "Complain                                  \n",
       "1                      364           552  "
      ]
     },
     "execution_count": 71,
     "metadata": {},
     "output_type": "execute_result"
    }
   ],
   "source": [
    "# Filter data untuk pelanggan yang melakukan komplain\n",
    "complain_customers = df[df['Complain'] == 1]\n",
    "\n",
    "purchase_bycomplain = complain_customers.groupby('Complain')[[\"MntWines\", \"MntFruits\", \n",
    "                                                              \"MntMeatProducts\", \"MntFishProducts\", \n",
    "                                                              \"MntSweetProducts\", \"MntGoldProds\"]].sum()\n",
    "\n",
    "purchase_bycomplain"
   ]
  },
  {
   "cell_type": "markdown",
   "id": "84f71cde",
   "metadata": {},
   "source": [
    "Tabel diatas menunjukan kemungkinan kehilangan pemasukan akibat tidak menangani komplain dengan benar\n",
    "\n",
    "\n",
    "=========================================="
   ]
  },
  {
   "cell_type": "markdown",
   "id": "afd89d67",
   "metadata": {},
   "source": [
    "**4. Berapakah total pembelian setiap komoditas di semua kelompok umur yang melakukan komplain?**"
   ]
  },
  {
   "cell_type": "code",
   "execution_count": 72,
   "id": "0120d8c7",
   "metadata": {},
   "outputs": [
    {
     "data": {
      "text/html": [
       "<div>\n",
       "<style scoped>\n",
       "    .dataframe tbody tr th:only-of-type {\n",
       "        vertical-align: middle;\n",
       "    }\n",
       "\n",
       "    .dataframe tbody tr th {\n",
       "        vertical-align: top;\n",
       "    }\n",
       "\n",
       "    .dataframe thead th {\n",
       "        text-align: right;\n",
       "    }\n",
       "</style>\n",
       "<table border=\"1\" class=\"dataframe\">\n",
       "  <thead>\n",
       "    <tr style=\"text-align: right;\">\n",
       "      <th></th>\n",
       "      <th>MntWines</th>\n",
       "      <th>MntFruits</th>\n",
       "      <th>MntMeatProducts</th>\n",
       "      <th>MntFishProducts</th>\n",
       "      <th>MntSweetProducts</th>\n",
       "      <th>MntGoldProds</th>\n",
       "    </tr>\n",
       "    <tr>\n",
       "      <th>Age_Labels</th>\n",
       "      <th></th>\n",
       "      <th></th>\n",
       "      <th></th>\n",
       "      <th></th>\n",
       "      <th></th>\n",
       "      <th></th>\n",
       "    </tr>\n",
       "  </thead>\n",
       "  <tbody>\n",
       "    <tr>\n",
       "      <th>Child</th>\n",
       "      <td>0</td>\n",
       "      <td>0</td>\n",
       "      <td>0</td>\n",
       "      <td>0</td>\n",
       "      <td>0</td>\n",
       "      <td>0</td>\n",
       "    </tr>\n",
       "    <tr>\n",
       "      <th>Teenagers</th>\n",
       "      <td>536</td>\n",
       "      <td>27</td>\n",
       "      <td>590</td>\n",
       "      <td>38</td>\n",
       "      <td>107</td>\n",
       "      <td>67</td>\n",
       "    </tr>\n",
       "    <tr>\n",
       "      <th>Adult</th>\n",
       "      <td>699</td>\n",
       "      <td>69</td>\n",
       "      <td>607</td>\n",
       "      <td>35</td>\n",
       "      <td>35</td>\n",
       "      <td>267</td>\n",
       "    </tr>\n",
       "    <tr>\n",
       "      <th>Pre-Senior</th>\n",
       "      <td>1280</td>\n",
       "      <td>375</td>\n",
       "      <td>895</td>\n",
       "      <td>386</td>\n",
       "      <td>213</td>\n",
       "      <td>189</td>\n",
       "    </tr>\n",
       "    <tr>\n",
       "      <th>Senior</th>\n",
       "      <td>1019</td>\n",
       "      <td>31</td>\n",
       "      <td>262</td>\n",
       "      <td>75</td>\n",
       "      <td>9</td>\n",
       "      <td>29</td>\n",
       "    </tr>\n",
       "  </tbody>\n",
       "</table>\n",
       "</div>"
      ],
      "text/plain": [
       "            MntWines  MntFruits  MntMeatProducts  MntFishProducts  \\\n",
       "Age_Labels                                                          \n",
       "Child              0          0                0                0   \n",
       "Teenagers        536         27              590               38   \n",
       "Adult            699         69              607               35   \n",
       "Pre-Senior      1280        375              895              386   \n",
       "Senior          1019         31              262               75   \n",
       "\n",
       "            MntSweetProducts  MntGoldProds  \n",
       "Age_Labels                                  \n",
       "Child                      0             0  \n",
       "Teenagers                107            67  \n",
       "Adult                     35           267  \n",
       "Pre-Senior               213           189  \n",
       "Senior                     9            29  "
      ]
     },
     "execution_count": 72,
     "metadata": {},
     "output_type": "execute_result"
    }
   ],
   "source": [
    "# Groupby berdasarkan kelompok umur dan menghitung total pembelian setiap komoditas\n",
    "purchase_complain = complain_customers.groupby('Age_Labels')[[\"MntWines\", \"MntFruits\", \"MntMeatProducts\", \n",
    "                                                              \"MntFishProducts\", \"MntSweetProducts\", \"MntGoldProds\"]].sum()\n",
    "\n",
    "purchase_complain"
   ]
  },
  {
   "cell_type": "markdown",
   "id": "e1b9d094",
   "metadata": {},
   "source": [
    "Tabel diatas menunjukan kemungkinan kehilangan pemasukan setiap kategori umur akibat tidak menangani komplain dengan benar\n",
    "\n",
    "\n",
    "=========================================="
   ]
  },
  {
   "cell_type": "markdown",
   "id": "223fcab5",
   "metadata": {},
   "source": [
    "# Kesimpulan dan Saran"
   ]
  },
  {
   "cell_type": "markdown",
   "id": "89c39e38",
   "metadata": {},
   "source": [
    "## Kesimpulan:\n",
    "\n",
    "**Segmentasi Pelanggan:**\n",
    "\n",
    "1. Total pelanggan tercatat: 2229.\n",
    "2. Pelanggan terbanyak berada dalam kelompok umur \"Adult\", status pernikahan \"Single\", status pendidikan \"Graduation\", dan memiliki anak.\n",
    "3. Pelanggan rendah berada dalam kelompok umur \"Child\" dan \"Teenagers\", status pernikahan \"Widow\", status pendidikan \"Basic\", dan tidak memiliki anak.\n",
    "4. Distribusi umur pelanggan tidak berdistribusi normal.\n",
    "\n",
    "**Performa Penjualan:**\n",
    "\n",
    "1. 38,5% dari pelanggan tergolong pasif (lebih dari 2 bulan dari terakhir pembelian).\n",
    "2. Rata-rata penjualan tertinggi untuk Wines, Meat, dan Gold (khusus untuk wines, rata-ratanya tertinggi dan hampir 2x lipat dibanding meat yang menempati urutan kedua). Pelanggan terbanyak melakukan pembelian pada kategori Wines, Meat, dan Gold.\n",
    "3. Preferensi pembelian berbeda-beda untuk setiap kelompok pelanggan.\n",
    "4. Teenagers adalah customer yang memiliki rata-rata pembelian tertinggi dari hampir seluruh komoditas selain Wines dan Gold (Emas) walaupun hanya 0.2% dari keseluruhan pelanggan.\n",
    "5. Korelasi kuat dan positif antara pendapatan dan pembelian Wine serta Meat. Korelasi kuat dan positif antara pembelian Fruits, Meat, Fish, dan Sweet. Korelasi rendah antara pembelian komoditas selain Gold dengan Gold.\n",
    "6. Tidak ada korelasi yang signifikan antara total penghasilan dan pembelian dengan diskon.\n",
    "\n",
    "**Efektivitas Campaign:**\n",
    "\n",
    "1. Jumlah pelanggan yang berhasil mengikuti campaign terakhir (334) lebih tinggi dibandingkan campaign sebelumnya.\n",
    "2. Campaign terakhir jauh lebih berhasil dibandingkan dengan campaign sebelumnya.\n",
    "3. Proporsi penerimaan campaign terakhir cukup seragam untuk kelompok umur kecuali pada kelompok 'Child' dan 'Teenagers'. Akan tetapi proporsi penerimaan campaign terakhir pada 'Teenagers' memiliki tingkat keberhasilan 50% dari total pelanggan 'Teenagers'.\n",
    "4. Tidak terdapat perbedaan signifikan antara proporsi keberhasilan kampanye terakhir untuk kelompok umur 'Adult', 'Pre-Senior', dan 'Senior'.\n",
    "\n",
    "**Efektivitas Website:**\n",
    "\n",
    "1. Rata-rata pelanggan mengunjungi website sekitar 5 kali per bulan.\n",
    "2. Rata-rata penjualan melalui website sekitar 4.1.\n",
    "3. Rata-rata kunjungan website antar kategori umur tidak jauh berbeda yaitu di sekitar 5\n",
    "4. Rata-rata dari total pembelian via website antar kategori umur tidak jauh berbeda yaitu di sekitar 4\n",
    "\n",
    "**Komplain Pelanggan:**\n",
    "\n",
    "1. Hanya 20 pelanggan (kurang dari 1%) yang melakukan komplain.\n",
    "2. Kelompok usia yang lebih tua, status pernikahan single, status pendidikan graduation, dan status memiliki anak cenderung melakukan komplain.\n",
    "3. Walaupun pelanggan yang melakukan komplain memiliki persentase yang kecil namun berpotensi menghilangkan pendapatan jika komplain tidak ditangani dengan benar."
   ]
  },
  {
   "cell_type": "markdown",
   "id": "1ae68e4d",
   "metadata": {},
   "source": [
    "## Saran:\n",
    "\n",
    "**Segmentasi Pelanggan:**\n",
    "1. Fokus pada kelompok pelanggan terbanyak, yaitu yang berada dalam kelompok umur \"Adult\", status pernikahan \"Single\", status pendidikan \"Graduation\", dan memiliki anak.\n",
    "2. Rancang strategi untuk meningkatkan kelompok pelanggan terendah, yaitu yang berada dalam kelompok umur \"Child\" dan \"Teenagers\", status pernikahan \"Widow\", status pendidikan \"Basic\", dan tidak memiliki anak.\n",
    "\n",
    "**Performa Penjualan:**\n",
    "1. Tingkatkan persediaan dan promosi untuk produk dengan rata-rata penjualan tertinggi, seperti Wines, Meat, dan Gold.\n",
    "2. Merancang paket penawaran atau bundel produk yang menarik untuk meningkatkan penjualan lintas kategori seperti bundle Fruits, Meat, Fish, dan Sweet\n",
    "3. Implementasikan program diskon atau poin loyalitas khusus untuk produk Fruits, Fish, dan Sweet\n",
    "\n",
    "**Efektivitas Campaign:**\n",
    "1. Lanjutkan campaign yang telah berhasil, terutama yang paling terkini.\n",
    "2. Pertimbangkan untuk menyesuaikan jenis campaign atau penawaran berdasarkan preferensi dan perilaku belanja pelanggan.\n",
    "3. Rancang campaign yang menyasar kepada kelompok pelanggan terendah, yaitu yang berada dalam kelompok umur \"Child\" dan \"Teenagers\", status pernikahan \"Widow\", status pendidikan \"Basic\", dan tidak memiliki anak.\n",
    "4. Rancang campaign yang menyasar kepada kelompok pelanggan yang tergolong pasif.\n",
    "\n",
    "**Efektivitas Website:**\n",
    "1. Perkuat kehadiran online dengan memastikan situs web responsif, mudah dinavigasi, dan menawarkan pengalaman berbelanja yang menyenangkan.\n",
    "2. Gunakan data kunjungan situs web dan pembelian online untuk merancang promosi atau rekomendasi produk yang sesuai.\n",
    "3. Pertimbangkan untuk melibatkan pelanggan secara aktif melalui platform online, seperti survei kepuasan pelanggan atau ulasan produk.\n",
    "\n",
    "**Komplain Pelanggan:**\n",
    "1. Identifikasi dan tangani permasalahan yang cenderung menyebabkan keluhan pada kelompok pelanggan yang lebih tua, single, dan berpendidikan graduation.\n",
    "2. Bangun hubungan komunikasi terbuka dengan pelanggan melalui saluran yang sesuai untuk memahami dan menyelesaikan keluhan dengan efektif.\n"
   ]
  },
  {
   "cell_type": "code",
   "execution_count": null,
   "id": "45cb988a",
   "metadata": {},
   "outputs": [],
   "source": []
  }
 ],
 "metadata": {
  "kernelspec": {
   "display_name": "Python 3 (ipykernel)",
   "language": "python",
   "name": "python3"
  },
  "language_info": {
   "codemirror_mode": {
    "name": "ipython",
    "version": 3
   },
   "file_extension": ".py",
   "mimetype": "text/x-python",
   "name": "python",
   "nbconvert_exporter": "python",
   "pygments_lexer": "ipython3",
   "version": "3.9.7"
  }
 },
 "nbformat": 4,
 "nbformat_minor": 5
}
